{
 "cells": [
  {
   "cell_type": "markdown",
   "metadata": {},
   "source": [
    "# Step 1:\n",
    "\n",
    "## Data Loading, Processing and Plotting\n",
    "\n",
    "We import the packages we are going to use. Each package is a tool within the Python ecosystem that someone has created that allow us to do something new without coding it ourselves (such as image analysis).\n",
    "\n",
    "In the next example, we are going to load an Excel CSV file and analyse it. So we will need the following packages; Pandas and Numpy.\n",
    "\n",
    "Pandas is our Dataframe package, numpy is our Numerical Python package"
   ]
  },
  {
   "cell_type": "code",
   "execution_count": 2,
   "metadata": {},
   "outputs": [],
   "source": [
    "import pandas\n",
    "import numpy"
   ]
  },
  {
   "cell_type": "markdown",
   "metadata": {},
   "source": [
    "Example 1: we are going to load a dataframe into python and display it"
   ]
  },
  {
   "cell_type": "code",
   "execution_count": 163,
   "metadata": {},
   "outputs": [
    {
     "data": {
      "text/html": [
       "<div>\n",
       "<style scoped>\n",
       "    .dataframe tbody tr th:only-of-type {\n",
       "        vertical-align: middle;\n",
       "    }\n",
       "\n",
       "    .dataframe tbody tr th {\n",
       "        vertical-align: top;\n",
       "    }\n",
       "\n",
       "    .dataframe thead th {\n",
       "        text-align: right;\n",
       "    }\n",
       "</style>\n",
       "<table border=\"1\" class=\"dataframe\">\n",
       "  <thead>\n",
       "    <tr style=\"text-align: right;\">\n",
       "      <th></th>\n",
       "      <th>Country</th>\n",
       "      <th>Population (Millions)</th>\n",
       "    </tr>\n",
       "  </thead>\n",
       "  <tbody>\n",
       "    <tr>\n",
       "      <th>0</th>\n",
       "      <td>Turkey</td>\n",
       "      <td>84.34</td>\n",
       "    </tr>\n",
       "    <tr>\n",
       "      <th>1</th>\n",
       "      <td>Iraq</td>\n",
       "      <td>40.22</td>\n",
       "    </tr>\n",
       "  </tbody>\n",
       "</table>\n",
       "</div>"
      ],
      "text/plain": [
       "  Country  Population (Millions)\n",
       "0  Turkey                  84.34\n",
       "1    Iraq                  40.22"
      ]
     },
     "execution_count": 163,
     "metadata": {},
     "output_type": "execute_result"
    }
   ],
   "source": [
    "# Load the csv file\n",
    "\n",
    "df = pandas.read_csv(\"Data/Example.csv\")\n",
    "\n",
    "# Show first two rows (Notice the 2)\n",
    "df.head(2)\n",
    "\n",
    "# Notice that we didn't create a variable for this operation displaying the first tw rows, so it doesn't exist in our variable explorer."
   ]
  },
  {
   "cell_type": "markdown",
   "metadata": {},
   "source": [
    "Examine the data by column:"
   ]
  },
  {
   "cell_type": "code",
   "execution_count": 164,
   "metadata": {},
   "outputs": [
    {
     "name": "stdout",
     "output_type": "stream",
     "text": [
      "<class 'pandas.core.frame.DataFrame'>\n",
      "RangeIndex: 4 entries, 0 to 3\n",
      "Data columns (total 2 columns):\n",
      " #   Column                 Non-Null Count  Dtype  \n",
      "---  ------                 --------------  -----  \n",
      " 0   Country                4 non-null      object \n",
      " 1   Population (Millions)  4 non-null      float64\n",
      "dtypes: float64(1), object(1)\n",
      "memory usage: 192.0+ bytes\n"
     ]
    }
   ],
   "source": [
    "df.info()"
   ]
  },
  {
   "cell_type": "markdown",
   "metadata": {},
   "source": [
    "Count the Number of Missing Values in each column:"
   ]
  },
  {
   "cell_type": "code",
   "execution_count": 165,
   "metadata": {},
   "outputs": [
    {
     "data": {
      "text/plain": [
       "Country                  0\n",
       "Population (Millions)    0\n",
       "dtype: int64"
      ]
     },
     "execution_count": 165,
     "metadata": {},
     "output_type": "execute_result"
    }
   ],
   "source": [
    "df.isnull().sum()"
   ]
  },
  {
   "cell_type": "code",
   "execution_count": 166,
   "metadata": {},
   "outputs": [
    {
     "name": "stdout",
     "output_type": "stream",
     "text": [
      "  Country  Population (Millions)\n",
      "2    Iran                  83.99\n",
      "3   Syria                  17.50\n"
     ]
    },
    {
     "data": {
      "text/html": [
       "<div>\n",
       "<style scoped>\n",
       "    .dataframe tbody tr th:only-of-type {\n",
       "        vertical-align: middle;\n",
       "    }\n",
       "\n",
       "    .dataframe tbody tr th {\n",
       "        vertical-align: top;\n",
       "    }\n",
       "\n",
       "    .dataframe thead th {\n",
       "        text-align: right;\n",
       "    }\n",
       "</style>\n",
       "<table border=\"1\" class=\"dataframe\">\n",
       "  <thead>\n",
       "    <tr style=\"text-align: right;\">\n",
       "      <th></th>\n",
       "      <th>Country</th>\n",
       "      <th>Population (Millions)</th>\n",
       "    </tr>\n",
       "  </thead>\n",
       "  <tbody>\n",
       "    <tr>\n",
       "      <th>2</th>\n",
       "      <td>Iran</td>\n",
       "      <td>83.99</td>\n",
       "    </tr>\n",
       "    <tr>\n",
       "      <th>3</th>\n",
       "      <td>Syria</td>\n",
       "      <td>17.50</td>\n",
       "    </tr>\n",
       "  </tbody>\n",
       "</table>\n",
       "</div>"
      ],
      "text/plain": [
       "  Country  Population (Millions)\n",
       "2    Iran                  83.99\n",
       "3   Syria                  17.50"
      ]
     },
     "execution_count": 166,
     "metadata": {},
     "output_type": "execute_result"
    }
   ],
   "source": [
    "# Let's look at variable assignment and displaying the dataframe.\n",
    "\n",
    "LastTwoRows = df.tail(2)\n",
    "\n",
    "# This doesn't print as we are assigning a variable. But we can display the variable this way:\n",
    "\n",
    "print(LastTwoRows)\n",
    "\n",
    "# Or\n",
    "\n",
    "LastTwoRows\n",
    "\n",
    "# Notice the difference in Display"
   ]
  },
  {
   "cell_type": "markdown",
   "metadata": {},
   "source": [
    "Example 2: We are going to filter a dataframe"
   ]
  },
  {
   "cell_type": "code",
   "execution_count": 167,
   "metadata": {},
   "outputs": [
    {
     "data": {
      "text/html": [
       "<div>\n",
       "<style scoped>\n",
       "    .dataframe tbody tr th:only-of-type {\n",
       "        vertical-align: middle;\n",
       "    }\n",
       "\n",
       "    .dataframe tbody tr th {\n",
       "        vertical-align: top;\n",
       "    }\n",
       "\n",
       "    .dataframe thead th {\n",
       "        text-align: right;\n",
       "    }\n",
       "</style>\n",
       "<table border=\"1\" class=\"dataframe\">\n",
       "  <thead>\n",
       "    <tr style=\"text-align: right;\">\n",
       "      <th></th>\n",
       "      <th>Country</th>\n",
       "      <th>Population (Millions)</th>\n",
       "    </tr>\n",
       "  </thead>\n",
       "  <tbody>\n",
       "    <tr>\n",
       "      <th>0</th>\n",
       "      <td>Turkey</td>\n",
       "      <td>84.34</td>\n",
       "    </tr>\n",
       "  </tbody>\n",
       "</table>\n",
       "</div>"
      ],
      "text/plain": [
       "  Country  Population (Millions)\n",
       "0  Turkey                  84.34"
      ]
     },
     "execution_count": 167,
     "metadata": {},
     "output_type": "execute_result"
    }
   ],
   "source": [
    "# We only want data for Turkey\n",
    "\n",
    "TurkeyRow = df.loc[df['Country'] == \"Turkey\"]\n",
    "\n",
    "# Here we use .loc and filter by the column name 'Country'\n",
    "\n",
    "TurkeyRow"
   ]
  },
  {
   "cell_type": "markdown",
   "metadata": {},
   "source": [
    "### Lambda Functions\n",
    "\n",
    "Lambda Functions are functions without a name. It is typically used for row-wise filtering logic. Here we will round the Population column row by row."
   ]
  },
  {
   "cell_type": "code",
   "execution_count": 168,
   "metadata": {},
   "outputs": [
    {
     "data": {
      "text/plain": [
       "0    84.3\n",
       "1    40.2\n",
       "2    84.0\n",
       "3    17.5\n",
       "Name: Population (Millions), dtype: float64"
      ]
     },
     "execution_count": 168,
     "metadata": {},
     "output_type": "execute_result"
    }
   ],
   "source": [
    "# Note we wrote Country differently here, instead of square brackets and quotation marks. We use quotation marks if there is a space in the column name\n",
    "\n",
    "RoundedCountryPopulation = df['Population (Millions)'].apply(lambda x: round(x,1))\n",
    "\n",
    "RoundedCountryPopulation"
   ]
  },
  {
   "cell_type": "markdown",
   "metadata": {},
   "source": [
    "Note that in Python, there are many ways of doing things and that it is quicker to round the whole column in one go. In this case as the workload is so small we won't see a difference, unless your computer is quite old:"
   ]
  },
  {
   "cell_type": "code",
   "execution_count": 169,
   "metadata": {},
   "outputs": [
    {
     "data": {
      "text/plain": [
       "0    84.3\n",
       "1    40.2\n",
       "2    84.0\n",
       "3    17.5\n",
       "Name: Population (Millions), dtype: float64"
      ]
     },
     "execution_count": 169,
     "metadata": {},
     "output_type": "execute_result"
    }
   ],
   "source": [
    "RoundedCountryPopulation = round(df['Population (Millions)'], 1)\n",
    "\n",
    "RoundedCountryPopulation"
   ]
  },
  {
   "cell_type": "markdown",
   "metadata": {},
   "source": [
    "### Loops\n",
    "\n",
    "Loops in python allow us to, like lambda functions, allow us to iterate and repeat an operation on data. Here, we will only round the Population if the country name is Turkey:"
   ]
  },
  {
   "cell_type": "code",
   "execution_count": 170,
   "metadata": {},
   "outputs": [
    {
     "name": "stdout",
     "output_type": "stream",
     "text": [
      "Turkey\n",
      "Population of Turkey has been Rounded to the nearest whole number\n"
     ]
    },
    {
     "data": {
      "text/html": [
       "<div>\n",
       "<style scoped>\n",
       "    .dataframe tbody tr th:only-of-type {\n",
       "        vertical-align: middle;\n",
       "    }\n",
       "\n",
       "    .dataframe tbody tr th {\n",
       "        vertical-align: top;\n",
       "    }\n",
       "\n",
       "    .dataframe thead th {\n",
       "        text-align: right;\n",
       "    }\n",
       "</style>\n",
       "<table border=\"1\" class=\"dataframe\">\n",
       "  <thead>\n",
       "    <tr style=\"text-align: right;\">\n",
       "      <th></th>\n",
       "      <th>Country</th>\n",
       "      <th>Population (Millions)</th>\n",
       "    </tr>\n",
       "  </thead>\n",
       "  <tbody>\n",
       "    <tr>\n",
       "      <th>0</th>\n",
       "      <td>Turkey</td>\n",
       "      <td>84.00</td>\n",
       "    </tr>\n",
       "    <tr>\n",
       "      <th>1</th>\n",
       "      <td>Iraq</td>\n",
       "      <td>40.22</td>\n",
       "    </tr>\n",
       "    <tr>\n",
       "      <th>2</th>\n",
       "      <td>Iran</td>\n",
       "      <td>83.99</td>\n",
       "    </tr>\n",
       "    <tr>\n",
       "      <th>3</th>\n",
       "      <td>Syria</td>\n",
       "      <td>17.50</td>\n",
       "    </tr>\n",
       "  </tbody>\n",
       "</table>\n",
       "</div>"
      ],
      "text/plain": [
       "  Country  Population (Millions)\n",
       "0  Turkey                  84.00\n",
       "1    Iraq                  40.22\n",
       "2    Iran                  83.99\n",
       "3   Syria                  17.50"
      ]
     },
     "execution_count": 170,
     "metadata": {},
     "output_type": "execute_result"
    }
   ],
   "source": [
    "# We copy the data so we don't affect the original data\n",
    "RoundedCountryPopulation = df.copy()\n",
    "\n",
    "for i in range(0, len(RoundedCountryPopulation)):\n",
    "\n",
    "    x = RoundedCountryPopulation.Country.loc[i]\n",
    "\n",
    "    if x == 'Turkey':\n",
    "\n",
    "        # Print Turkey if the Country is Turkey\n",
    "        print(x)\n",
    "\n",
    "        # Round the Value for Turkey's population\n",
    "        RoundedCountryPopulation.loc[i, 'Population (Millions)'] = round(RoundedCountryPopulation.loc[i, 'Population (Millions)'], 0)\n",
    "\n",
    "    else:\n",
    "\n",
    "        # Do nothing for any other country\n",
    "\n",
    "        pass\n",
    "\n",
    "print('Population of Turkey has been Rounded to the nearest whole number')\n",
    "\n",
    "RoundedCountryPopulation"
   ]
  },
  {
   "cell_type": "markdown",
   "metadata": {},
   "source": [
    "Notice if we write this in the same way as a Lambda Function, it's much more concise:"
   ]
  },
  {
   "cell_type": "code",
   "execution_count": 171,
   "metadata": {},
   "outputs": [
    {
     "data": {
      "text/plain": [
       "0    84.00\n",
       "1    40.22\n",
       "2    83.99\n",
       "3    17.50\n",
       "dtype: float64"
      ]
     },
     "execution_count": 171,
     "metadata": {},
     "output_type": "execute_result"
    }
   ],
   "source": [
    "RoundedCountryPopulation = df[['Country', 'Population (Millions)']].apply(lambda x: round(x['Population (Millions)'],0) if x.Country == 'Turkey' else x['Population (Millions)'], axis=1)\n",
    "\n",
    "RoundedCountryPopulation"
   ]
  },
  {
   "cell_type": "markdown",
   "metadata": {},
   "source": [
    "### Replacing Text\n",
    "\n",
    "Sometimes with Data you'll need to replace text that is incorrect in the data. Here, we change Iran to Tunisia."
   ]
  },
  {
   "cell_type": "code",
   "execution_count": 172,
   "metadata": {},
   "outputs": [
    {
     "data": {
      "text/html": [
       "<div>\n",
       "<style scoped>\n",
       "    .dataframe tbody tr th:only-of-type {\n",
       "        vertical-align: middle;\n",
       "    }\n",
       "\n",
       "    .dataframe tbody tr th {\n",
       "        vertical-align: top;\n",
       "    }\n",
       "\n",
       "    .dataframe thead th {\n",
       "        text-align: right;\n",
       "    }\n",
       "</style>\n",
       "<table border=\"1\" class=\"dataframe\">\n",
       "  <thead>\n",
       "    <tr style=\"text-align: right;\">\n",
       "      <th></th>\n",
       "      <th>Country</th>\n",
       "      <th>Population (Millions)</th>\n",
       "    </tr>\n",
       "  </thead>\n",
       "  <tbody>\n",
       "    <tr>\n",
       "      <th>0</th>\n",
       "      <td>Turkey</td>\n",
       "      <td>84.34</td>\n",
       "    </tr>\n",
       "    <tr>\n",
       "      <th>1</th>\n",
       "      <td>Iraq</td>\n",
       "      <td>40.22</td>\n",
       "    </tr>\n",
       "    <tr>\n",
       "      <th>2</th>\n",
       "      <td>Tunisia</td>\n",
       "      <td>83.99</td>\n",
       "    </tr>\n",
       "    <tr>\n",
       "      <th>3</th>\n",
       "      <td>Syria</td>\n",
       "      <td>17.50</td>\n",
       "    </tr>\n",
       "  </tbody>\n",
       "</table>\n",
       "</div>"
      ],
      "text/plain": [
       "   Country  Population (Millions)\n",
       "0   Turkey                  84.34\n",
       "1     Iraq                  40.22\n",
       "2  Tunisia                  83.99\n",
       "3    Syria                  17.50"
      ]
     },
     "execution_count": 172,
     "metadata": {},
     "output_type": "execute_result"
    }
   ],
   "source": [
    "df.Country = df.Country.replace('Iran', 'Tunisia')\n",
    "\n",
    "df"
   ]
  },
  {
   "cell_type": "markdown",
   "metadata": {},
   "source": [
    "We can replace characters as well, row by row."
   ]
  },
  {
   "cell_type": "code",
   "execution_count": 173,
   "metadata": {},
   "outputs": [
    {
     "data": {
      "text/plain": [
       "['Turkey', 'Ir-q', 'Tunisi-', 'Syri-']"
      ]
     },
     "execution_count": 173,
     "metadata": {},
     "output_type": "execute_result"
    }
   ],
   "source": [
    "# Here we won't assign a variable and go row by row, see the for which represents a loop.\n",
    "\n",
    "[x.replace(\"a\", '-') for x in df.Country]"
   ]
  },
  {
   "cell_type": "markdown",
   "metadata": {},
   "source": [
    "Let's utilize these skills to graph data we've been using."
   ]
  },
  {
   "cell_type": "code",
   "execution_count": 3,
   "metadata": {},
   "outputs": [
    {
     "data": {
      "text/html": [
       "<div>\n",
       "<style scoped>\n",
       "    .dataframe tbody tr th:only-of-type {\n",
       "        vertical-align: middle;\n",
       "    }\n",
       "\n",
       "    .dataframe tbody tr th {\n",
       "        vertical-align: top;\n",
       "    }\n",
       "\n",
       "    .dataframe thead th {\n",
       "        text-align: right;\n",
       "    }\n",
       "</style>\n",
       "<table border=\"1\" class=\"dataframe\">\n",
       "  <thead>\n",
       "    <tr style=\"text-align: right;\">\n",
       "      <th></th>\n",
       "      <th>Date (dd/mm/yyyy)</th>\n",
       "      <th>Date (mm/dd/yyyy)</th>\n",
       "      <th>Title</th>\n",
       "      <th>English Title</th>\n",
       "      <th>Link</th>\n",
       "      <th>Sentiment</th>\n",
       "      <th>Kurds in Turkey</th>\n",
       "      <th>Kurds in Syria</th>\n",
       "      <th>Kurds in Iraq</th>\n",
       "      <th>Kurds in Iran</th>\n",
       "      <th>Turkey's National Security</th>\n",
       "      <th>Independence or Autonomy</th>\n",
       "      <th>PKK/SDF/YPG/YPJ/YBS/QSD</th>\n",
       "      <th>Which group?</th>\n",
       "      <th>ISIS/Daesh</th>\n",
       "      <th>Undefined terrorism or national security threat</th>\n",
       "      <th>Full Text</th>\n",
       "    </tr>\n",
       "  </thead>\n",
       "  <tbody>\n",
       "    <tr>\n",
       "      <th>0</th>\n",
       "      <td>1998-04-01</td>\n",
       "      <td>1/4/1998</td>\n",
       "      <td>Türkiye Dışişleri Bakanı Sayın İsmail Cem'in İ...</td>\n",
       "      <td>Letter sent by Turkish Foreign Minister Mr. İs...</td>\n",
       "      <td>https://www.mfa.gov.tr/letter-sent-by-turkish-...</td>\n",
       "      <td>NaN</td>\n",
       "      <td>0</td>\n",
       "      <td>0</td>\n",
       "      <td>0.0</td>\n",
       "      <td>0</td>\n",
       "      <td>0</td>\n",
       "      <td>0.0</td>\n",
       "      <td>0</td>\n",
       "      <td>0</td>\n",
       "      <td>0</td>\n",
       "      <td>0.0</td>\n",
       "      <td>Dear Colleague and Friend, \\n \\n I have receiv...</td>\n",
       "    </tr>\n",
       "    <tr>\n",
       "      <th>1</th>\n",
       "      <td>1998-03-03</td>\n",
       "      <td>3/3/1998</td>\n",
       "      <td>Türk ve Ürdün Tarafları Tarafından Verilen Ort...</td>\n",
       "      <td>Joint Communique Given By Turkish And Jordan S...</td>\n",
       "      <td>https://www.mfa.gov.tr/joint-communique-given-...</td>\n",
       "      <td>NaN</td>\n",
       "      <td>0</td>\n",
       "      <td>0</td>\n",
       "      <td>0.0</td>\n",
       "      <td>0</td>\n",
       "      <td>0</td>\n",
       "      <td>0.0</td>\n",
       "      <td>0</td>\n",
       "      <td>0</td>\n",
       "      <td>0</td>\n",
       "      <td>0.0</td>\n",
       "      <td>On 26-27 February 1998, His Excellency Mr. Ism...</td>\n",
       "    </tr>\n",
       "    <tr>\n",
       "      <th>2</th>\n",
       "      <td>20/10/1998</td>\n",
       "      <td>10/20/1998</td>\n",
       "      <td>Dışişleri Bakanı İsmail Cem'in Türkiye-Suriye ...</td>\n",
       "      <td>Statement Made By İsmail Cem, Foreign Minister...</td>\n",
       "      <td>https://www.mfa.gov.tr/_p_statement-made-by-is...</td>\n",
       "      <td>NaN</td>\n",
       "      <td>0</td>\n",
       "      <td>0</td>\n",
       "      <td>0.0</td>\n",
       "      <td>0</td>\n",
       "      <td>0</td>\n",
       "      <td>0.0</td>\n",
       "      <td>1</td>\n",
       "      <td>PKK</td>\n",
       "      <td>0</td>\n",
       "      <td>0.0</td>\n",
       "      <td>\"We will carefully monitor the implementation ...</td>\n",
       "    </tr>\n",
       "    <tr>\n",
       "      <th>3</th>\n",
       "      <td>21/12/1998</td>\n",
       "      <td>12/21/1998</td>\n",
       "      <td>Türkiye, Irak'a Yönelik ABD-İngiltere Ortak Ha...</td>\n",
       "      <td>Turkey Welcomes The Cessation Of The Joint US-...</td>\n",
       "      <td>https://www.mfa.gov.tr/turkey-welcomes-the-ces...</td>\n",
       "      <td>NaN</td>\n",
       "      <td>0</td>\n",
       "      <td>0</td>\n",
       "      <td>0.0</td>\n",
       "      <td>0</td>\n",
       "      <td>0</td>\n",
       "      <td>0.0</td>\n",
       "      <td>0</td>\n",
       "      <td>0</td>\n",
       "      <td>0</td>\n",
       "      <td>0.0</td>\n",
       "      <td>Turkey welcomes the cessation on 20 December o...</td>\n",
       "    </tr>\n",
       "    <tr>\n",
       "      <th>4</th>\n",
       "      <td>28/12/1998</td>\n",
       "      <td>12/28/1998</td>\n",
       "      <td>Basın Bülteni Irak güçleri ile ABD Uçağı arası...</td>\n",
       "      <td>Press Release Regarding the latest clash betwe...</td>\n",
       "      <td>https://www.mfa.gov.tr/_p_press-release-regard...</td>\n",
       "      <td>NaN</td>\n",
       "      <td>0</td>\n",
       "      <td>0</td>\n",
       "      <td>0.0</td>\n",
       "      <td>0</td>\n",
       "      <td>0</td>\n",
       "      <td>0.0</td>\n",
       "      <td>0</td>\n",
       "      <td>0</td>\n",
       "      <td>0</td>\n",
       "      <td>0.0</td>\n",
       "      <td>Today, Iraqi forces missiles fired ground-to-a...</td>\n",
       "    </tr>\n",
       "  </tbody>\n",
       "</table>\n",
       "</div>"
      ],
      "text/plain": [
       "  Date (dd/mm/yyyy) Date (mm/dd/yyyy)  \\\n",
       "0        1998-04-01          1/4/1998   \n",
       "1        1998-03-03          3/3/1998   \n",
       "2        20/10/1998        10/20/1998   \n",
       "3        21/12/1998        12/21/1998   \n",
       "4        28/12/1998        12/28/1998   \n",
       "\n",
       "                                               Title  \\\n",
       "0  Türkiye Dışişleri Bakanı Sayın İsmail Cem'in İ...   \n",
       "1  Türk ve Ürdün Tarafları Tarafından Verilen Ort...   \n",
       "2  Dışişleri Bakanı İsmail Cem'in Türkiye-Suriye ...   \n",
       "3  Türkiye, Irak'a Yönelik ABD-İngiltere Ortak Ha...   \n",
       "4  Basın Bülteni Irak güçleri ile ABD Uçağı arası...   \n",
       "\n",
       "                                       English Title  \\\n",
       "0  Letter sent by Turkish Foreign Minister Mr. İs...   \n",
       "1  Joint Communique Given By Turkish And Jordan S...   \n",
       "2  Statement Made By İsmail Cem, Foreign Minister...   \n",
       "3  Turkey Welcomes The Cessation Of The Joint US-...   \n",
       "4  Press Release Regarding the latest clash betwe...   \n",
       "\n",
       "                                                Link  Sentiment  \\\n",
       "0  https://www.mfa.gov.tr/letter-sent-by-turkish-...        NaN   \n",
       "1  https://www.mfa.gov.tr/joint-communique-given-...        NaN   \n",
       "2  https://www.mfa.gov.tr/_p_statement-made-by-is...        NaN   \n",
       "3  https://www.mfa.gov.tr/turkey-welcomes-the-ces...        NaN   \n",
       "4  https://www.mfa.gov.tr/_p_press-release-regard...        NaN   \n",
       "\n",
       "   Kurds in Turkey  Kurds in Syria  Kurds in Iraq  Kurds in Iran  \\\n",
       "0                0               0            0.0              0   \n",
       "1                0               0            0.0              0   \n",
       "2                0               0            0.0              0   \n",
       "3                0               0            0.0              0   \n",
       "4                0               0            0.0              0   \n",
       "\n",
       "   Turkey's National Security  Independence or Autonomy  \\\n",
       "0                           0                       0.0   \n",
       "1                           0                       0.0   \n",
       "2                           0                       0.0   \n",
       "3                           0                       0.0   \n",
       "4                           0                       0.0   \n",
       "\n",
       "   PKK/SDF/YPG/YPJ/YBS/QSD Which group? ISIS/Daesh  \\\n",
       "0                        0            0          0   \n",
       "1                        0            0          0   \n",
       "2                        1          PKK          0   \n",
       "3                        0            0          0   \n",
       "4                        0            0          0   \n",
       "\n",
       "   Undefined terrorism or national security threat  \\\n",
       "0                                              0.0   \n",
       "1                                              0.0   \n",
       "2                                              0.0   \n",
       "3                                              0.0   \n",
       "4                                              0.0   \n",
       "\n",
       "                                           Full Text  \n",
       "0  Dear Colleague and Friend, \\n \\n I have receiv...  \n",
       "1  On 26-27 February 1998, His Excellency Mr. Ism...  \n",
       "2  \"We will carefully monitor the implementation ...  \n",
       "3  Turkey welcomes the cessation on 20 December o...  \n",
       "4  Today, Iraqi forces missiles fired ground-to-a...  "
      ]
     },
     "execution_count": 3,
     "metadata": {},
     "output_type": "execute_result"
    }
   ],
   "source": [
    "ForeignMinistryStatements = pandas.read_csv('Data/Turkish Foreign Ministry Statements - Press Releases - KRG.csv')\n",
    "\n",
    "ForeignMinistryStatements.head(5)"
   ]
  },
  {
   "cell_type": "markdown",
   "metadata": {},
   "source": [
    "We are going to graph the number of PKK mentions in MFA statements over time. Therefore we only need the date and the 'Which Group' Column."
   ]
  },
  {
   "cell_type": "code",
   "execution_count": 175,
   "metadata": {},
   "outputs": [
    {
     "data": {
      "text/html": [
       "<div>\n",
       "<style scoped>\n",
       "    .dataframe tbody tr th:only-of-type {\n",
       "        vertical-align: middle;\n",
       "    }\n",
       "\n",
       "    .dataframe tbody tr th {\n",
       "        vertical-align: top;\n",
       "    }\n",
       "\n",
       "    .dataframe thead th {\n",
       "        text-align: right;\n",
       "    }\n",
       "</style>\n",
       "<table border=\"1\" class=\"dataframe\">\n",
       "  <thead>\n",
       "    <tr style=\"text-align: right;\">\n",
       "      <th></th>\n",
       "      <th>Date (dd/mm/yyyy)</th>\n",
       "      <th>Which group?</th>\n",
       "    </tr>\n",
       "  </thead>\n",
       "  <tbody>\n",
       "    <tr>\n",
       "      <th>0</th>\n",
       "      <td>1998-04-01</td>\n",
       "      <td>0</td>\n",
       "    </tr>\n",
       "    <tr>\n",
       "      <th>1</th>\n",
       "      <td>1998-03-03</td>\n",
       "      <td>0</td>\n",
       "    </tr>\n",
       "    <tr>\n",
       "      <th>2</th>\n",
       "      <td>20/10/1998</td>\n",
       "      <td>PKK</td>\n",
       "    </tr>\n",
       "    <tr>\n",
       "      <th>3</th>\n",
       "      <td>21/12/1998</td>\n",
       "      <td>0</td>\n",
       "    </tr>\n",
       "    <tr>\n",
       "      <th>4</th>\n",
       "      <td>28/12/1998</td>\n",
       "      <td>0</td>\n",
       "    </tr>\n",
       "  </tbody>\n",
       "</table>\n",
       "</div>"
      ],
      "text/plain": [
       "  Date (dd/mm/yyyy) Which group?\n",
       "0        1998-04-01            0\n",
       "1        1998-03-03            0\n",
       "2        20/10/1998          PKK\n",
       "3        21/12/1998            0\n",
       "4        28/12/1998            0"
      ]
     },
     "execution_count": 175,
     "metadata": {},
     "output_type": "execute_result"
    }
   ],
   "source": [
    "ForeignMinistryStatements = ForeignMinistryStatements[['Date (dd/mm/yyyy)', 'Which group?']]\n",
    "\n",
    "ForeignMinistryStatements.head(5)"
   ]
  },
  {
   "cell_type": "markdown",
   "metadata": {},
   "source": [
    "For the dates, we need it to be in one common format. We write a filter for both formats, then fill the missing values in the first group with those of the second and use that as the date column"
   ]
  },
  {
   "cell_type": "code",
   "execution_count": 4,
   "metadata": {},
   "outputs": [
    {
     "data": {
      "text/html": [
       "<div>\n",
       "<style scoped>\n",
       "    .dataframe tbody tr th:only-of-type {\n",
       "        vertical-align: middle;\n",
       "    }\n",
       "\n",
       "    .dataframe tbody tr th {\n",
       "        vertical-align: top;\n",
       "    }\n",
       "\n",
       "    .dataframe thead th {\n",
       "        text-align: right;\n",
       "    }\n",
       "</style>\n",
       "<table border=\"1\" class=\"dataframe\">\n",
       "  <thead>\n",
       "    <tr style=\"text-align: right;\">\n",
       "      <th></th>\n",
       "      <th>Date (dd/mm/yyyy)</th>\n",
       "      <th>Date (mm/dd/yyyy)</th>\n",
       "      <th>Title</th>\n",
       "      <th>English Title</th>\n",
       "      <th>Link</th>\n",
       "      <th>Sentiment</th>\n",
       "      <th>Kurds in Turkey</th>\n",
       "      <th>Kurds in Syria</th>\n",
       "      <th>Kurds in Iraq</th>\n",
       "      <th>Kurds in Iran</th>\n",
       "      <th>Turkey's National Security</th>\n",
       "      <th>Independence or Autonomy</th>\n",
       "      <th>PKK/SDF/YPG/YPJ/YBS/QSD</th>\n",
       "      <th>Which group?</th>\n",
       "      <th>ISIS/Daesh</th>\n",
       "      <th>Undefined terrorism or national security threat</th>\n",
       "      <th>Full Text</th>\n",
       "    </tr>\n",
       "  </thead>\n",
       "  <tbody>\n",
       "    <tr>\n",
       "      <th>0</th>\n",
       "      <td>1998-04-01</td>\n",
       "      <td>1/4/1998</td>\n",
       "      <td>Türkiye Dışişleri Bakanı Sayın İsmail Cem'in İ...</td>\n",
       "      <td>Letter sent by Turkish Foreign Minister Mr. İs...</td>\n",
       "      <td>https://www.mfa.gov.tr/letter-sent-by-turkish-...</td>\n",
       "      <td>NaN</td>\n",
       "      <td>0</td>\n",
       "      <td>0</td>\n",
       "      <td>0.0</td>\n",
       "      <td>0</td>\n",
       "      <td>0</td>\n",
       "      <td>0.0</td>\n",
       "      <td>0</td>\n",
       "      <td>0</td>\n",
       "      <td>0</td>\n",
       "      <td>0.0</td>\n",
       "      <td>Dear Colleague and Friend, \\n \\n I have receiv...</td>\n",
       "    </tr>\n",
       "    <tr>\n",
       "      <th>1</th>\n",
       "      <td>1998-03-03</td>\n",
       "      <td>3/3/1998</td>\n",
       "      <td>Türk ve Ürdün Tarafları Tarafından Verilen Ort...</td>\n",
       "      <td>Joint Communique Given By Turkish And Jordan S...</td>\n",
       "      <td>https://www.mfa.gov.tr/joint-communique-given-...</td>\n",
       "      <td>NaN</td>\n",
       "      <td>0</td>\n",
       "      <td>0</td>\n",
       "      <td>0.0</td>\n",
       "      <td>0</td>\n",
       "      <td>0</td>\n",
       "      <td>0.0</td>\n",
       "      <td>0</td>\n",
       "      <td>0</td>\n",
       "      <td>0</td>\n",
       "      <td>0.0</td>\n",
       "      <td>On 26-27 February 1998, His Excellency Mr. Ism...</td>\n",
       "    </tr>\n",
       "    <tr>\n",
       "      <th>2</th>\n",
       "      <td>1998-10-20</td>\n",
       "      <td>10/20/1998</td>\n",
       "      <td>Dışişleri Bakanı İsmail Cem'in Türkiye-Suriye ...</td>\n",
       "      <td>Statement Made By İsmail Cem, Foreign Minister...</td>\n",
       "      <td>https://www.mfa.gov.tr/_p_statement-made-by-is...</td>\n",
       "      <td>NaN</td>\n",
       "      <td>0</td>\n",
       "      <td>0</td>\n",
       "      <td>0.0</td>\n",
       "      <td>0</td>\n",
       "      <td>0</td>\n",
       "      <td>0.0</td>\n",
       "      <td>1</td>\n",
       "      <td>PKK</td>\n",
       "      <td>0</td>\n",
       "      <td>0.0</td>\n",
       "      <td>\"We will carefully monitor the implementation ...</td>\n",
       "    </tr>\n",
       "    <tr>\n",
       "      <th>3</th>\n",
       "      <td>1998-12-21</td>\n",
       "      <td>12/21/1998</td>\n",
       "      <td>Türkiye, Irak'a Yönelik ABD-İngiltere Ortak Ha...</td>\n",
       "      <td>Turkey Welcomes The Cessation Of The Joint US-...</td>\n",
       "      <td>https://www.mfa.gov.tr/turkey-welcomes-the-ces...</td>\n",
       "      <td>NaN</td>\n",
       "      <td>0</td>\n",
       "      <td>0</td>\n",
       "      <td>0.0</td>\n",
       "      <td>0</td>\n",
       "      <td>0</td>\n",
       "      <td>0.0</td>\n",
       "      <td>0</td>\n",
       "      <td>0</td>\n",
       "      <td>0</td>\n",
       "      <td>0.0</td>\n",
       "      <td>Turkey welcomes the cessation on 20 December o...</td>\n",
       "    </tr>\n",
       "    <tr>\n",
       "      <th>4</th>\n",
       "      <td>1998-12-28</td>\n",
       "      <td>12/28/1998</td>\n",
       "      <td>Basın Bülteni Irak güçleri ile ABD Uçağı arası...</td>\n",
       "      <td>Press Release Regarding the latest clash betwe...</td>\n",
       "      <td>https://www.mfa.gov.tr/_p_press-release-regard...</td>\n",
       "      <td>NaN</td>\n",
       "      <td>0</td>\n",
       "      <td>0</td>\n",
       "      <td>0.0</td>\n",
       "      <td>0</td>\n",
       "      <td>0</td>\n",
       "      <td>0.0</td>\n",
       "      <td>0</td>\n",
       "      <td>0</td>\n",
       "      <td>0</td>\n",
       "      <td>0.0</td>\n",
       "      <td>Today, Iraqi forces missiles fired ground-to-a...</td>\n",
       "    </tr>\n",
       "  </tbody>\n",
       "</table>\n",
       "</div>"
      ],
      "text/plain": [
       "  Date (dd/mm/yyyy) Date (mm/dd/yyyy)  \\\n",
       "0        1998-04-01          1/4/1998   \n",
       "1        1998-03-03          3/3/1998   \n",
       "2        1998-10-20        10/20/1998   \n",
       "3        1998-12-21        12/21/1998   \n",
       "4        1998-12-28        12/28/1998   \n",
       "\n",
       "                                               Title  \\\n",
       "0  Türkiye Dışişleri Bakanı Sayın İsmail Cem'in İ...   \n",
       "1  Türk ve Ürdün Tarafları Tarafından Verilen Ort...   \n",
       "2  Dışişleri Bakanı İsmail Cem'in Türkiye-Suriye ...   \n",
       "3  Türkiye, Irak'a Yönelik ABD-İngiltere Ortak Ha...   \n",
       "4  Basın Bülteni Irak güçleri ile ABD Uçağı arası...   \n",
       "\n",
       "                                       English Title  \\\n",
       "0  Letter sent by Turkish Foreign Minister Mr. İs...   \n",
       "1  Joint Communique Given By Turkish And Jordan S...   \n",
       "2  Statement Made By İsmail Cem, Foreign Minister...   \n",
       "3  Turkey Welcomes The Cessation Of The Joint US-...   \n",
       "4  Press Release Regarding the latest clash betwe...   \n",
       "\n",
       "                                                Link  Sentiment  \\\n",
       "0  https://www.mfa.gov.tr/letter-sent-by-turkish-...        NaN   \n",
       "1  https://www.mfa.gov.tr/joint-communique-given-...        NaN   \n",
       "2  https://www.mfa.gov.tr/_p_statement-made-by-is...        NaN   \n",
       "3  https://www.mfa.gov.tr/turkey-welcomes-the-ces...        NaN   \n",
       "4  https://www.mfa.gov.tr/_p_press-release-regard...        NaN   \n",
       "\n",
       "   Kurds in Turkey  Kurds in Syria  Kurds in Iraq  Kurds in Iran  \\\n",
       "0                0               0            0.0              0   \n",
       "1                0               0            0.0              0   \n",
       "2                0               0            0.0              0   \n",
       "3                0               0            0.0              0   \n",
       "4                0               0            0.0              0   \n",
       "\n",
       "   Turkey's National Security  Independence or Autonomy  \\\n",
       "0                           0                       0.0   \n",
       "1                           0                       0.0   \n",
       "2                           0                       0.0   \n",
       "3                           0                       0.0   \n",
       "4                           0                       0.0   \n",
       "\n",
       "   PKK/SDF/YPG/YPJ/YBS/QSD Which group? ISIS/Daesh  \\\n",
       "0                        0            0          0   \n",
       "1                        0            0          0   \n",
       "2                        1          PKK          0   \n",
       "3                        0            0          0   \n",
       "4                        0            0          0   \n",
       "\n",
       "   Undefined terrorism or national security threat  \\\n",
       "0                                              0.0   \n",
       "1                                              0.0   \n",
       "2                                              0.0   \n",
       "3                                              0.0   \n",
       "4                                              0.0   \n",
       "\n",
       "                                           Full Text  \n",
       "0  Dear Colleague and Friend, \\n \\n I have receiv...  \n",
       "1  On 26-27 February 1998, His Excellency Mr. Ism...  \n",
       "2  \"We will carefully monitor the implementation ...  \n",
       "3  Turkey welcomes the cessation on 20 December o...  \n",
       "4  Today, Iraqi forces missiles fired ground-to-a...  "
      ]
     },
     "execution_count": 4,
     "metadata": {},
     "output_type": "execute_result"
    }
   ],
   "source": [
    "#ForeignMinistryStatements['Date (dd/mm/yyyy)'].replace('-', '/', inplace = True)\n",
    "\n",
    "Date1 = pandas.to_datetime(ForeignMinistryStatements['Date (dd/mm/yyyy)'], errors='coerce', format='%Y-%m-%d')\n",
    "Date2 = pandas.to_datetime(ForeignMinistryStatements['Date (dd/mm/yyyy)'], errors='coerce', format='%d/%m/%Y')\n",
    "\n",
    "ForeignMinistryStatements['Date (dd/mm/yyyy)'] = Date1.fillna(Date2)\n",
    "\n",
    "ForeignMinistryStatements.head(5)"
   ]
  },
  {
   "cell_type": "markdown",
   "metadata": {},
   "source": [
    "Now we only want the data for PKK mentions:"
   ]
  },
  {
   "cell_type": "code",
   "execution_count": null,
   "metadata": {},
   "outputs": [],
   "source": [
    "PKKStatements.join(YPGStatements, how='right')"
   ]
  },
  {
   "cell_type": "code",
   "execution_count": 60,
   "metadata": {},
   "outputs": [
    {
     "data": {
      "image/png": "[encoded data removed]",
      "text/plain": [
       "<Figure size 1080x576 with 1 Axes>"
      ]
     },
     "metadata": {},
     "output_type": "display_data"
    }
   ],
   "source": [
    "PKKStatements = ForeignMinistryStatements[ForeignMinistryStatements['Full Text'].str.contains('PKK', case=False)][['Date (dd/mm/yyyy)', 'Full Text']]\n",
    "YPGStatements = ForeignMinistryStatements[ForeignMinistryStatements['Full Text'].str.contains('YPG', case=False)][['Date (dd/mm/yyyy)', 'Full Text']]\n",
    "\n",
    "PKKStatements['Full Text'] = 1\n",
    "YPGStatements['Full Text'] = 1\n",
    "\n",
    "\n",
    "YPGStatements.set_index('Date (dd/mm/yyyy)', inplace=True, drop=True)\n",
    "PKKStatements.set_index('Date (dd/mm/yyyy)', inplace=True, drop=True)\n",
    "\n",
    "\n",
    "PKKStatements = PKKStatements.resample('Y').agg('sum')\n",
    "YPGStatements = YPGStatements.resample('Y').agg('sum')\n",
    "\n",
    "PKKStatements['Group'] = 'PKK'\n",
    "YPGStatements['Group'] = 'YPG'\n",
    "\n",
    "DataPlot = pandas.concat([PKKStatements, YPGStatements]).reset_index()\n",
    "\n",
    "import matplotlib.pyplot as plt\n",
    "from matplotlib import dates\n",
    "import seaborn\n",
    "\n",
    "plt.figure(figsize=(15,8))\n",
    "ax = seaborn.lineplot(x=\"Date (dd/mm/yyyy)\", y=\"Full Text\", hue = \"Group\", data=DataPlot)\n",
    "\n",
    "ax.set(xlabel = 'Year', ylabel = 'Mentions')\n",
    "\n",
    "seaborn.set(font_scale = 1)\n",
    "\n",
    "#ax.set(xticks=F.index)\n",
    "ax.xaxis.set_major_formatter(dates.DateFormatter(\"%Y\"))"
   ]
  },
  {
   "cell_type": "code",
   "execution_count": 177,
   "metadata": {},
   "outputs": [
    {
     "data": {
      "text/html": [
       "<div>\n",
       "<style scoped>\n",
       "    .dataframe tbody tr th:only-of-type {\n",
       "        vertical-align: middle;\n",
       "    }\n",
       "\n",
       "    .dataframe tbody tr th {\n",
       "        vertical-align: top;\n",
       "    }\n",
       "\n",
       "    .dataframe thead th {\n",
       "        text-align: right;\n",
       "    }\n",
       "</style>\n",
       "<table border=\"1\" class=\"dataframe\">\n",
       "  <thead>\n",
       "    <tr style=\"text-align: right;\">\n",
       "      <th></th>\n",
       "      <th>Date (dd/mm/yyyy)</th>\n",
       "      <th>Which group?</th>\n",
       "    </tr>\n",
       "  </thead>\n",
       "  <tbody>\n",
       "    <tr>\n",
       "      <th>2</th>\n",
       "      <td>1998-10-20</td>\n",
       "      <td>PKK</td>\n",
       "    </tr>\n",
       "    <tr>\n",
       "      <th>5</th>\n",
       "      <td>1999-08-01</td>\n",
       "      <td>PKK</td>\n",
       "    </tr>\n",
       "    <tr>\n",
       "      <th>7</th>\n",
       "      <td>1999-01-17</td>\n",
       "      <td>PKK</td>\n",
       "    </tr>\n",
       "    <tr>\n",
       "      <th>8</th>\n",
       "      <td>1999-01-19</td>\n",
       "      <td>PKK</td>\n",
       "    </tr>\n",
       "    <tr>\n",
       "      <th>9</th>\n",
       "      <td>1999-01-02</td>\n",
       "      <td>PKK</td>\n",
       "    </tr>\n",
       "    <tr>\n",
       "      <th>...</th>\n",
       "      <td>...</td>\n",
       "      <td>...</td>\n",
       "    </tr>\n",
       "    <tr>\n",
       "      <th>204</th>\n",
       "      <td>2020-03-07</td>\n",
       "      <td>PKK</td>\n",
       "    </tr>\n",
       "    <tr>\n",
       "      <th>205</th>\n",
       "      <td>2020-05-07</td>\n",
       "      <td>PKK</td>\n",
       "    </tr>\n",
       "    <tr>\n",
       "      <th>208</th>\n",
       "      <td>2020-12-08</td>\n",
       "      <td>PKK</td>\n",
       "    </tr>\n",
       "    <tr>\n",
       "      <th>210</th>\n",
       "      <td>2020-10-10</td>\n",
       "      <td>PKK</td>\n",
       "    </tr>\n",
       "    <tr>\n",
       "      <th>221</th>\n",
       "      <td>2008-11-20</td>\n",
       "      <td>PKK</td>\n",
       "    </tr>\n",
       "  </tbody>\n",
       "</table>\n",
       "<p>73 rows × 2 columns</p>\n",
       "</div>"
      ],
      "text/plain": [
       "    Date (dd/mm/yyyy) Which group?\n",
       "2          1998-10-20          PKK\n",
       "5          1999-08-01          PKK\n",
       "7          1999-01-17          PKK\n",
       "8          1999-01-19          PKK\n",
       "9          1999-01-02          PKK\n",
       "..                ...          ...\n",
       "204        2020-03-07          PKK\n",
       "205        2020-05-07          PKK\n",
       "208        2020-12-08          PKK\n",
       "210        2020-10-10          PKK\n",
       "221        2008-11-20          PKK\n",
       "\n",
       "[73 rows x 2 columns]"
      ]
     },
     "execution_count": 177,
     "metadata": {},
     "output_type": "execute_result"
    }
   ],
   "source": [
    "ForeignMinistryStatements = ForeignMinistryStatements[(ForeignMinistryStatements['Which group?'] == 'PKK') | (ForeignMinistryStatements['Which group?'] == 'Pkk') | (ForeignMinistryStatements['Which group?'] == 'pkk')]\n",
    "\n",
    "ForeignMinistryStatements"
   ]
  },
  {
   "cell_type": "markdown",
   "metadata": {},
   "source": [
    "There are 73 statements. How does this look by year?"
   ]
  },
  {
   "cell_type": "code",
   "execution_count": 178,
   "metadata": {},
   "outputs": [
    {
     "data": {
      "text/html": [
       "<div>\n",
       "<style scoped>\n",
       "    .dataframe tbody tr th:only-of-type {\n",
       "        vertical-align: middle;\n",
       "    }\n",
       "\n",
       "    .dataframe tbody tr th {\n",
       "        vertical-align: top;\n",
       "    }\n",
       "\n",
       "    .dataframe thead th {\n",
       "        text-align: right;\n",
       "    }\n",
       "</style>\n",
       "<table border=\"1\" class=\"dataframe\">\n",
       "  <thead>\n",
       "    <tr style=\"text-align: right;\">\n",
       "      <th></th>\n",
       "      <th>Which group?</th>\n",
       "    </tr>\n",
       "    <tr>\n",
       "      <th>Date (dd/mm/yyyy)</th>\n",
       "      <th></th>\n",
       "    </tr>\n",
       "  </thead>\n",
       "  <tbody>\n",
       "    <tr>\n",
       "      <th>1998-12-31</th>\n",
       "      <td>1</td>\n",
       "    </tr>\n",
       "    <tr>\n",
       "      <th>1999-12-31</th>\n",
       "      <td>11</td>\n",
       "    </tr>\n",
       "    <tr>\n",
       "      <th>2000-12-31</th>\n",
       "      <td>0</td>\n",
       "    </tr>\n",
       "    <tr>\n",
       "      <th>2001-12-31</th>\n",
       "      <td>1</td>\n",
       "    </tr>\n",
       "    <tr>\n",
       "      <th>2002-12-31</th>\n",
       "      <td>0</td>\n",
       "    </tr>\n",
       "  </tbody>\n",
       "</table>\n",
       "</div>"
      ],
      "text/plain": [
       "                   Which group?\n",
       "Date (dd/mm/yyyy)              \n",
       "1998-12-31                    1\n",
       "1999-12-31                   11\n",
       "2000-12-31                    0\n",
       "2001-12-31                    1\n",
       "2002-12-31                    0"
      ]
     },
     "execution_count": 178,
     "metadata": {},
     "output_type": "execute_result"
    }
   ],
   "source": [
    "ForeignMinistryStatements['Which group?'] = 1\n",
    "\n",
    "ForeignMinistryStatements.set_index('Date (dd/mm/yyyy)', inplace=True, drop=True)\n",
    "\n",
    "ForeignMinistryStatements = ForeignMinistryStatements.resample('Y').agg('sum')\n",
    "\n",
    "ForeignMinistryStatements.head(5)"
   ]
  },
  {
   "cell_type": "markdown",
   "metadata": {},
   "source": [
    "Let's plot this:"
   ]
  },
  {
   "cell_type": "code",
   "execution_count": 199,
   "metadata": {},
   "outputs": [
    {
     "data": {
      "image/png": "[encoded data removed]",
      "text/plain": [
       "<Figure size 1080x576 with 1 Axes>"
      ]
     },
     "metadata": {},
     "output_type": "display_data"
    }
   ],
   "source": [
    "import matplotlib.pyplot as plt\n",
    "from matplotlib import dates\n",
    "import seaborn\n",
    "\n",
    "plt.figure(figsize=(15,8))\n",
    "ax = seaborn.lineplot(x=\"Date (dd/mm/yyyy)\", y=\"Which group?\", data=ForeignMinistryStatements)\n",
    "\n",
    "ax.set(xlabel = 'Year', ylabel = 'PKK Mentions')\n",
    "\n",
    "seaborn.set(font_scale = 1)\n",
    "\n",
    "ax.set(xticks=ForeignMinistryStatements.index)\n",
    "ax.xaxis.set_major_formatter(dates.DateFormatter(\"%Y\"))"
   ]
  },
  {
   "cell_type": "markdown",
   "metadata": {},
   "source": [
    "# Step 2:\n",
    "\n",
    "## GeoSpatial Data and Plotting\n",
    "\n",
    "Python is quite useful for graphing quantitative data as well as geospatial data."
   ]
  },
  {
   "cell_type": "code",
   "execution_count": 180,
   "metadata": {},
   "outputs": [
    {
     "data": {
      "text/html": [
       "<div>\n",
       "<style scoped>\n",
       "    .dataframe tbody tr th:only-of-type {\n",
       "        vertical-align: middle;\n",
       "    }\n",
       "\n",
       "    .dataframe tbody tr th {\n",
       "        vertical-align: top;\n",
       "    }\n",
       "\n",
       "    .dataframe thead th {\n",
       "        text-align: right;\n",
       "    }\n",
       "</style>\n",
       "<table border=\"1\" class=\"dataframe\">\n",
       "  <thead>\n",
       "    <tr style=\"text-align: right;\">\n",
       "      <th></th>\n",
       "      <th>ISO</th>\n",
       "      <th>EVENT_ID_CNTY</th>\n",
       "      <th>EVENT_ID_NO_CNTY</th>\n",
       "      <th>EVENT_DATE</th>\n",
       "      <th>YEAR</th>\n",
       "      <th>TIME_PRECISION</th>\n",
       "      <th>EVENT_TYPE</th>\n",
       "      <th>SUB_EVENT_TYPE</th>\n",
       "      <th>ACTOR1</th>\n",
       "      <th>ASSOC_ACTOR_1</th>\n",
       "      <th>...</th>\n",
       "      <th>ADMIN3</th>\n",
       "      <th>LOCATION</th>\n",
       "      <th>LATITUDE</th>\n",
       "      <th>LONGITUDE</th>\n",
       "      <th>GEO_PRECISION</th>\n",
       "      <th>SOURCE</th>\n",
       "      <th>SOURCE_SCALE</th>\n",
       "      <th>NOTES</th>\n",
       "      <th>FATALITIES</th>\n",
       "      <th>TIMESTAMP</th>\n",
       "    </tr>\n",
       "  </thead>\n",
       "  <tbody>\n",
       "    <tr>\n",
       "      <th>0</th>\n",
       "      <td>368</td>\n",
       "      <td>IRQ15174</td>\n",
       "      <td>15174</td>\n",
       "      <td>2016-01-01</td>\n",
       "      <td>2016</td>\n",
       "      <td>1</td>\n",
       "      <td>Battles</td>\n",
       "      <td>Armed clash</td>\n",
       "      <td>Unidentified Armed Group (Iraq)</td>\n",
       "      <td>NaN</td>\n",
       "      <td>...</td>\n",
       "      <td>Markaz Al Muqdadiya</td>\n",
       "      <td>Qaryat al Mukhaysah</td>\n",
       "      <td>33.906</td>\n",
       "      <td>44.725</td>\n",
       "      <td>1</td>\n",
       "      <td>National Iraqi News Agency</td>\n",
       "      <td>National</td>\n",
       "      <td>On Jan 01, 1 soldier was killed by unidentifie...</td>\n",
       "      <td>1</td>\n",
       "      <td>1618557594</td>\n",
       "    </tr>\n",
       "    <tr>\n",
       "      <th>1</th>\n",
       "      <td>368</td>\n",
       "      <td>IRQ15167</td>\n",
       "      <td>15167</td>\n",
       "      <td>2016-01-01</td>\n",
       "      <td>2016</td>\n",
       "      <td>1</td>\n",
       "      <td>Battles</td>\n",
       "      <td>Armed clash</td>\n",
       "      <td>Military Forces of Iraq (2014-2018) Popular Mo...</td>\n",
       "      <td>NaN</td>\n",
       "      <td>...</td>\n",
       "      <td>Al Synia</td>\n",
       "      <td>Baiji</td>\n",
       "      <td>34.929</td>\n",
       "      <td>43.489</td>\n",
       "      <td>2</td>\n",
       "      <td>National Iraqi News Agency</td>\n",
       "      <td>National</td>\n",
       "      <td>On Jan 01, the PMF repelled an attack by IS mi...</td>\n",
       "      <td>17</td>\n",
       "      <td>1618557593</td>\n",
       "    </tr>\n",
       "    <tr>\n",
       "      <th>2</th>\n",
       "      <td>368</td>\n",
       "      <td>IRQ15168</td>\n",
       "      <td>15168</td>\n",
       "      <td>2016-01-01</td>\n",
       "      <td>2016</td>\n",
       "      <td>1</td>\n",
       "      <td>Battles</td>\n",
       "      <td>Government regains territory</td>\n",
       "      <td>Military Forces of Iraq (2014-2018) Popular Mo...</td>\n",
       "      <td>Global Coalition Against Daesh</td>\n",
       "      <td>...</td>\n",
       "      <td>Markaz Al Falluja</td>\n",
       "      <td>Qaryat al Naimiyah</td>\n",
       "      <td>33.271</td>\n",
       "      <td>43.832</td>\n",
       "      <td>1</td>\n",
       "      <td>Al Maloomah</td>\n",
       "      <td>National</td>\n",
       "      <td>On Jan 01, the PMF backed by the global coalit...</td>\n",
       "      <td>10</td>\n",
       "      <td>1618557593</td>\n",
       "    </tr>\n",
       "    <tr>\n",
       "      <th>3</th>\n",
       "      <td>368</td>\n",
       "      <td>IRQ15172</td>\n",
       "      <td>15172</td>\n",
       "      <td>2016-01-01</td>\n",
       "      <td>2016</td>\n",
       "      <td>1</td>\n",
       "      <td>Battles</td>\n",
       "      <td>Armed clash</td>\n",
       "      <td>Islamic State (Iraq)</td>\n",
       "      <td>NaN</td>\n",
       "      <td>...</td>\n",
       "      <td>Qara Tabe</td>\n",
       "      <td>Qarah Tabah</td>\n",
       "      <td>34.433</td>\n",
       "      <td>44.935</td>\n",
       "      <td>1</td>\n",
       "      <td>Al Maloomah</td>\n",
       "      <td>National</td>\n",
       "      <td>On Jan 01, IS militants killed a policeman in ...</td>\n",
       "      <td>1</td>\n",
       "      <td>1618557593</td>\n",
       "    </tr>\n",
       "    <tr>\n",
       "      <th>4</th>\n",
       "      <td>368</td>\n",
       "      <td>IRQ15169</td>\n",
       "      <td>15169</td>\n",
       "      <td>2016-01-01</td>\n",
       "      <td>2016</td>\n",
       "      <td>1</td>\n",
       "      <td>Explosions/Remote violence</td>\n",
       "      <td>Shelling/artillery/missile attack</td>\n",
       "      <td>Islamic State (Iraq)</td>\n",
       "      <td>NaN</td>\n",
       "      <td>...</td>\n",
       "      <td>Al Amirya</td>\n",
       "      <td>Nahiyat al Amiriyah</td>\n",
       "      <td>33.172</td>\n",
       "      <td>43.860</td>\n",
       "      <td>1</td>\n",
       "      <td>Al Maloomah</td>\n",
       "      <td>National</td>\n",
       "      <td>On Jan 01, IS militants targeted residential a...</td>\n",
       "      <td>10</td>\n",
       "      <td>1618557593</td>\n",
       "    </tr>\n",
       "  </tbody>\n",
       "</table>\n",
       "<p>5 rows × 29 columns</p>\n",
       "</div>"
      ],
      "text/plain": [
       "   ISO EVENT_ID_CNTY  EVENT_ID_NO_CNTY  EVENT_DATE  YEAR  TIME_PRECISION  \\\n",
       "0  368      IRQ15174             15174  2016-01-01  2016               1   \n",
       "1  368      IRQ15167             15167  2016-01-01  2016               1   \n",
       "2  368      IRQ15168             15168  2016-01-01  2016               1   \n",
       "3  368      IRQ15172             15172  2016-01-01  2016               1   \n",
       "4  368      IRQ15169             15169  2016-01-01  2016               1   \n",
       "\n",
       "                   EVENT_TYPE                     SUB_EVENT_TYPE  \\\n",
       "0                     Battles                        Armed clash   \n",
       "1                     Battles                        Armed clash   \n",
       "2                     Battles       Government regains territory   \n",
       "3                     Battles                        Armed clash   \n",
       "4  Explosions/Remote violence  Shelling/artillery/missile attack   \n",
       "\n",
       "                                              ACTOR1  \\\n",
       "0                    Unidentified Armed Group (Iraq)   \n",
       "1  Military Forces of Iraq (2014-2018) Popular Mo...   \n",
       "2  Military Forces of Iraq (2014-2018) Popular Mo...   \n",
       "3                               Islamic State (Iraq)   \n",
       "4                               Islamic State (Iraq)   \n",
       "\n",
       "                    ASSOC_ACTOR_1  ...               ADMIN3  \\\n",
       "0                             NaN  ...  Markaz Al Muqdadiya   \n",
       "1                             NaN  ...             Al Synia   \n",
       "2  Global Coalition Against Daesh  ...    Markaz Al Falluja   \n",
       "3                             NaN  ...            Qara Tabe   \n",
       "4                             NaN  ...            Al Amirya   \n",
       "\n",
       "              LOCATION LATITUDE  LONGITUDE  GEO_PRECISION  \\\n",
       "0  Qaryat al Mukhaysah   33.906     44.725              1   \n",
       "1                Baiji   34.929     43.489              2   \n",
       "2   Qaryat al Naimiyah   33.271     43.832              1   \n",
       "3          Qarah Tabah   34.433     44.935              1   \n",
       "4  Nahiyat al Amiriyah   33.172     43.860              1   \n",
       "\n",
       "                       SOURCE SOURCE_SCALE  \\\n",
       "0  National Iraqi News Agency     National   \n",
       "1  National Iraqi News Agency     National   \n",
       "2                 Al Maloomah     National   \n",
       "3                 Al Maloomah     National   \n",
       "4                 Al Maloomah     National   \n",
       "\n",
       "                                               NOTES FATALITIES   TIMESTAMP  \n",
       "0  On Jan 01, 1 soldier was killed by unidentifie...          1  1618557594  \n",
       "1  On Jan 01, the PMF repelled an attack by IS mi...         17  1618557593  \n",
       "2  On Jan 01, the PMF backed by the global coalit...         10  1618557593  \n",
       "3  On Jan 01, IS militants killed a policeman in ...          1  1618557593  \n",
       "4  On Jan 01, IS militants targeted residential a...         10  1618557593  \n",
       "\n",
       "[5 rows x 29 columns]"
      ]
     },
     "execution_count": 180,
     "metadata": {},
     "output_type": "execute_result"
    }
   ],
   "source": [
    "# Let's start by importing some conflict data:\n",
    "\n",
    "Conflict = pandas.read_csv(\"Data/IraqConflictData.csv\")\n",
    "\n",
    "Conflict.head(5)"
   ]
  },
  {
   "cell_type": "markdown",
   "metadata": {},
   "source": [
    "We want to view the number of protests in Iraq on a map. Let's filter to protests by event type."
   ]
  },
  {
   "cell_type": "code",
   "execution_count": 181,
   "metadata": {},
   "outputs": [
    {
     "data": {
      "text/plain": [
       "array(['Battles', 'Explosions/Remote violence',\n",
       "       'Violence against civilians', 'Strategic developments', 'Protests',\n",
       "       'Riots'], dtype=object)"
      ]
     },
     "execution_count": 181,
     "metadata": {},
     "output_type": "execute_result"
    }
   ],
   "source": [
    "#Let's explore the the different event types in this column before we filter:\n",
    "\n",
    "Conflict[\"EVENT_TYPE\"].unique()\n",
    "\n",
    "#* We only want Protest Events."
   ]
  },
  {
   "cell_type": "code",
   "execution_count": 182,
   "metadata": {},
   "outputs": [
    {
     "data": {
      "text/plain": [
       "Explosions/Remote violence    17263\n",
       "Battles                        8413\n",
       "Protests                       4936\n",
       "Strategic developments         3091\n",
       "Violence against civilians     2276\n",
       "Riots                          1074\n",
       "Name: EVENT_TYPE, dtype: int64"
      ]
     },
     "execution_count": 182,
     "metadata": {},
     "output_type": "execute_result"
    }
   ],
   "source": [
    "# Maybe we'd want to examine the frequency of each event type:\n",
    "\n",
    "Conflict[\"EVENT_TYPE\"].value_counts()"
   ]
  },
  {
   "cell_type": "code",
   "execution_count": 183,
   "metadata": {},
   "outputs": [
    {
     "data": {
      "text/html": [
       "<div>\n",
       "<style scoped>\n",
       "    .dataframe tbody tr th:only-of-type {\n",
       "        vertical-align: middle;\n",
       "    }\n",
       "\n",
       "    .dataframe tbody tr th {\n",
       "        vertical-align: top;\n",
       "    }\n",
       "\n",
       "    .dataframe thead th {\n",
       "        text-align: right;\n",
       "    }\n",
       "</style>\n",
       "<table border=\"1\" class=\"dataframe\">\n",
       "  <thead>\n",
       "    <tr style=\"text-align: right;\">\n",
       "      <th></th>\n",
       "      <th>ISO</th>\n",
       "      <th>EVENT_ID_CNTY</th>\n",
       "      <th>EVENT_ID_NO_CNTY</th>\n",
       "      <th>EVENT_DATE</th>\n",
       "      <th>YEAR</th>\n",
       "      <th>TIME_PRECISION</th>\n",
       "      <th>EVENT_TYPE</th>\n",
       "      <th>SUB_EVENT_TYPE</th>\n",
       "      <th>ACTOR1</th>\n",
       "      <th>ASSOC_ACTOR_1</th>\n",
       "      <th>...</th>\n",
       "      <th>ADMIN3</th>\n",
       "      <th>LOCATION</th>\n",
       "      <th>LATITUDE</th>\n",
       "      <th>LONGITUDE</th>\n",
       "      <th>GEO_PRECISION</th>\n",
       "      <th>SOURCE</th>\n",
       "      <th>SOURCE_SCALE</th>\n",
       "      <th>NOTES</th>\n",
       "      <th>FATALITIES</th>\n",
       "      <th>TIMESTAMP</th>\n",
       "    </tr>\n",
       "  </thead>\n",
       "  <tbody>\n",
       "    <tr>\n",
       "      <th>49</th>\n",
       "      <td>368</td>\n",
       "      <td>IRQ6854</td>\n",
       "      <td>6854</td>\n",
       "      <td>2016-01-03</td>\n",
       "      <td>2016</td>\n",
       "      <td>1</td>\n",
       "      <td>Protests</td>\n",
       "      <td>Peaceful protest</td>\n",
       "      <td>Protesters (Iraq)</td>\n",
       "      <td>NaN</td>\n",
       "      <td>...</td>\n",
       "      <td>Markaz Al Kut</td>\n",
       "      <td>Kut</td>\n",
       "      <td>32.506</td>\n",
       "      <td>45.825</td>\n",
       "      <td>1</td>\n",
       "      <td>Al Mada</td>\n",
       "      <td>National</td>\n",
       "      <td>On Jan 03, hundreds of protesters rallied outs...</td>\n",
       "      <td>0</td>\n",
       "      <td>1618559613</td>\n",
       "    </tr>\n",
       "    <tr>\n",
       "      <th>94</th>\n",
       "      <td>368</td>\n",
       "      <td>IRQ6871</td>\n",
       "      <td>6871</td>\n",
       "      <td>2016-01-04</td>\n",
       "      <td>2016</td>\n",
       "      <td>1</td>\n",
       "      <td>Protests</td>\n",
       "      <td>Peaceful protest</td>\n",
       "      <td>Protesters (Iraq)</td>\n",
       "      <td>NaN</td>\n",
       "      <td>...</td>\n",
       "      <td>Markaz Al Basrah</td>\n",
       "      <td>Basrah</td>\n",
       "      <td>30.533</td>\n",
       "      <td>47.798</td>\n",
       "      <td>1</td>\n",
       "      <td>Press TV; NRT News</td>\n",
       "      <td>National-Regional</td>\n",
       "      <td>On Jan 04, protesters gathered in Basra to pro...</td>\n",
       "      <td>0</td>\n",
       "      <td>1618559616</td>\n",
       "    </tr>\n",
       "    <tr>\n",
       "      <th>95</th>\n",
       "      <td>368</td>\n",
       "      <td>IRQ6872</td>\n",
       "      <td>6872</td>\n",
       "      <td>2016-01-04</td>\n",
       "      <td>2016</td>\n",
       "      <td>1</td>\n",
       "      <td>Protests</td>\n",
       "      <td>Peaceful protest</td>\n",
       "      <td>Protesters (Iraq)</td>\n",
       "      <td>NaN</td>\n",
       "      <td>...</td>\n",
       "      <td>Markaz Kerbela</td>\n",
       "      <td>Kerbala</td>\n",
       "      <td>32.598</td>\n",
       "      <td>44.016</td>\n",
       "      <td>1</td>\n",
       "      <td>Press TV; NRT News</td>\n",
       "      <td>National-Regional</td>\n",
       "      <td>On Jan 04, protesters gathered in Kerbala to p...</td>\n",
       "      <td>0</td>\n",
       "      <td>1618559616</td>\n",
       "    </tr>\n",
       "    <tr>\n",
       "      <th>96</th>\n",
       "      <td>368</td>\n",
       "      <td>IRQ6873</td>\n",
       "      <td>6873</td>\n",
       "      <td>2016-01-04</td>\n",
       "      <td>2016</td>\n",
       "      <td>1</td>\n",
       "      <td>Protests</td>\n",
       "      <td>Peaceful protest</td>\n",
       "      <td>Protesters (Iraq)</td>\n",
       "      <td>NaN</td>\n",
       "      <td>...</td>\n",
       "      <td>Markaz Al Najaf</td>\n",
       "      <td>Najaf</td>\n",
       "      <td>32.026</td>\n",
       "      <td>44.346</td>\n",
       "      <td>1</td>\n",
       "      <td>Press TV; NRT News</td>\n",
       "      <td>National-Regional</td>\n",
       "      <td>On Jan 04, protesters gathered in Najaf to pro...</td>\n",
       "      <td>0</td>\n",
       "      <td>1618559616</td>\n",
       "    </tr>\n",
       "    <tr>\n",
       "      <th>102</th>\n",
       "      <td>368</td>\n",
       "      <td>IRQ6870</td>\n",
       "      <td>6870</td>\n",
       "      <td>2016-01-04</td>\n",
       "      <td>2016</td>\n",
       "      <td>1</td>\n",
       "      <td>Protests</td>\n",
       "      <td>Peaceful protest</td>\n",
       "      <td>Protesters (Iraq)</td>\n",
       "      <td>NaN</td>\n",
       "      <td>...</td>\n",
       "      <td>NaN</td>\n",
       "      <td>Baghdad</td>\n",
       "      <td>33.325</td>\n",
       "      <td>44.421</td>\n",
       "      <td>1</td>\n",
       "      <td>Press TV; NRT News; Iraqi News</td>\n",
       "      <td>National-Regional</td>\n",
       "      <td>On Jan 04, protesters marched outside the Gree...</td>\n",
       "      <td>0</td>\n",
       "      <td>1618442064</td>\n",
       "    </tr>\n",
       "  </tbody>\n",
       "</table>\n",
       "<p>5 rows × 29 columns</p>\n",
       "</div>"
      ],
      "text/plain": [
       "     ISO EVENT_ID_CNTY  EVENT_ID_NO_CNTY  EVENT_DATE  YEAR  TIME_PRECISION  \\\n",
       "49   368       IRQ6854              6854  2016-01-03  2016               1   \n",
       "94   368       IRQ6871              6871  2016-01-04  2016               1   \n",
       "95   368       IRQ6872              6872  2016-01-04  2016               1   \n",
       "96   368       IRQ6873              6873  2016-01-04  2016               1   \n",
       "102  368       IRQ6870              6870  2016-01-04  2016               1   \n",
       "\n",
       "    EVENT_TYPE    SUB_EVENT_TYPE             ACTOR1 ASSOC_ACTOR_1  ...  \\\n",
       "49    Protests  Peaceful protest  Protesters (Iraq)           NaN  ...   \n",
       "94    Protests  Peaceful protest  Protesters (Iraq)           NaN  ...   \n",
       "95    Protests  Peaceful protest  Protesters (Iraq)           NaN  ...   \n",
       "96    Protests  Peaceful protest  Protesters (Iraq)           NaN  ...   \n",
       "102   Protests  Peaceful protest  Protesters (Iraq)           NaN  ...   \n",
       "\n",
       "               ADMIN3 LOCATION LATITUDE  LONGITUDE  GEO_PRECISION  \\\n",
       "49      Markaz Al Kut      Kut   32.506     45.825              1   \n",
       "94   Markaz Al Basrah   Basrah   30.533     47.798              1   \n",
       "95     Markaz Kerbela  Kerbala   32.598     44.016              1   \n",
       "96    Markaz Al Najaf    Najaf   32.026     44.346              1   \n",
       "102               NaN  Baghdad   33.325     44.421              1   \n",
       "\n",
       "                             SOURCE       SOURCE_SCALE  \\\n",
       "49                          Al Mada           National   \n",
       "94               Press TV; NRT News  National-Regional   \n",
       "95               Press TV; NRT News  National-Regional   \n",
       "96               Press TV; NRT News  National-Regional   \n",
       "102  Press TV; NRT News; Iraqi News  National-Regional   \n",
       "\n",
       "                                                 NOTES FATALITIES   TIMESTAMP  \n",
       "49   On Jan 03, hundreds of protesters rallied outs...          0  1618559613  \n",
       "94   On Jan 04, protesters gathered in Basra to pro...          0  1618559616  \n",
       "95   On Jan 04, protesters gathered in Kerbala to p...          0  1618559616  \n",
       "96   On Jan 04, protesters gathered in Najaf to pro...          0  1618559616  \n",
       "102  On Jan 04, protesters marched outside the Gree...          0  1618442064  \n",
       "\n",
       "[5 rows x 29 columns]"
      ]
     },
     "execution_count": 183,
     "metadata": {},
     "output_type": "execute_result"
    }
   ],
   "source": [
    "Conflict = Conflict[Conflict[\"EVENT_TYPE\"] == 'Protests']\n",
    "\n",
    "Conflict.head(5)"
   ]
  },
  {
   "cell_type": "markdown",
   "metadata": {},
   "source": [
    "In order to plot these on a map, we would need to import the Geopandas package, a geospatial python package that extends pandas functionality to geospatial data."
   ]
  },
  {
   "cell_type": "code",
   "execution_count": 184,
   "metadata": {},
   "outputs": [],
   "source": [
    "import geopandas"
   ]
  },
  {
   "cell_type": "markdown",
   "metadata": {},
   "source": [
    "Let's also import the boundaries for Iraq's governorates, so we can segregate protest data by governorate. Notice we added a new column 'Governorate Number'. We will use this as the ID number for the Governorates as the data did not come with Governorate Names."
   ]
  },
  {
   "cell_type": "code",
   "execution_count": 185,
   "metadata": {},
   "outputs": [
    {
     "data": {
      "text/html": [
       "<div>\n",
       "<style scoped>\n",
       "    .dataframe tbody tr th:only-of-type {\n",
       "        vertical-align: middle;\n",
       "    }\n",
       "\n",
       "    .dataframe tbody tr th {\n",
       "        vertical-align: top;\n",
       "    }\n",
       "\n",
       "    .dataframe thead th {\n",
       "        text-align: right;\n",
       "    }\n",
       "</style>\n",
       "<table border=\"1\" class=\"dataframe\">\n",
       "  <thead>\n",
       "    <tr style=\"text-align: right;\">\n",
       "      <th></th>\n",
       "      <th>geometry</th>\n",
       "      <th>Governorate Number</th>\n",
       "    </tr>\n",
       "  </thead>\n",
       "  <tbody>\n",
       "    <tr>\n",
       "      <th>0</th>\n",
       "      <td>POLYGON ((41.27872 35.14914, 41.30727 35.14842...</td>\n",
       "      <td>0</td>\n",
       "    </tr>\n",
       "    <tr>\n",
       "      <th>1</th>\n",
       "      <td>POLYGON ((47.66124 31.26825, 47.66724 31.26725...</td>\n",
       "      <td>1</td>\n",
       "    </tr>\n",
       "    <tr>\n",
       "      <th>2</th>\n",
       "      <td>POLYGON ((45.24242 31.74129, 45.24884 31.74048...</td>\n",
       "      <td>2</td>\n",
       "    </tr>\n",
       "    <tr>\n",
       "      <th>3</th>\n",
       "      <td>POLYGON ((44.34425 32.31681, 44.34995 32.30601...</td>\n",
       "      <td>3</td>\n",
       "    </tr>\n",
       "    <tr>\n",
       "      <th>4</th>\n",
       "      <td>POLYGON ((45.26993 32.35793, 45.27767 32.35674...</td>\n",
       "      <td>4</td>\n",
       "    </tr>\n",
       "    <tr>\n",
       "      <th>5</th>\n",
       "      <td>POLYGON ((45.09023 36.44960, 45.09166 36.44032...</td>\n",
       "      <td>5</td>\n",
       "    </tr>\n",
       "    <tr>\n",
       "      <th>6</th>\n",
       "      <td>POLYGON ((44.17148 32.99686, 44.17383 32.99275...</td>\n",
       "      <td>6</td>\n",
       "    </tr>\n",
       "    <tr>\n",
       "      <th>7</th>\n",
       "      <td>POLYGON ((44.41936 33.71985, 44.42863 33.71357...</td>\n",
       "      <td>7</td>\n",
       "    </tr>\n",
       "    <tr>\n",
       "      <th>8</th>\n",
       "      <td>POLYGON ((45.78010 34.83632, 45.77224 34.82990...</td>\n",
       "      <td>8</td>\n",
       "    </tr>\n",
       "    <tr>\n",
       "      <th>9</th>\n",
       "      <td>POLYGON ((42.84654 37.34800, 42.85154 37.34657...</td>\n",
       "      <td>9</td>\n",
       "    </tr>\n",
       "  </tbody>\n",
       "</table>\n",
       "</div>"
      ],
      "text/plain": [
       "                                            geometry  Governorate Number\n",
       "0  POLYGON ((41.27872 35.14914, 41.30727 35.14842...                   0\n",
       "1  POLYGON ((47.66124 31.26825, 47.66724 31.26725...                   1\n",
       "2  POLYGON ((45.24242 31.74129, 45.24884 31.74048...                   2\n",
       "3  POLYGON ((44.34425 32.31681, 44.34995 32.30601...                   3\n",
       "4  POLYGON ((45.26993 32.35793, 45.27767 32.35674...                   4\n",
       "5  POLYGON ((45.09023 36.44960, 45.09166 36.44032...                   5\n",
       "6  POLYGON ((44.17148 32.99686, 44.17383 32.99275...                   6\n",
       "7  POLYGON ((44.41936 33.71985, 44.42863 33.71357...                   7\n",
       "8  POLYGON ((45.78010 34.83632, 45.77224 34.82990...                   8\n",
       "9  POLYGON ((42.84654 37.34800, 42.85154 37.34657...                   9"
      ]
     },
     "execution_count": 185,
     "metadata": {},
     "output_type": "execute_result"
    }
   ],
   "source": [
    "# We got this data from: https://data.humdata.org/dataset/cod-ab-irq?\n",
    "\n",
    "# UN e.t.c have lots of data, particularly for Iraq. See what you can find.\n",
    "\n",
    "Iraq = geopandas.read_file(\"Map/iraq_governates.shp\")\n",
    "\n",
    "Iraq['Governorate Number'] = numpy.arange(len(Iraq))\n",
    "\n",
    "Iraq.head(10)"
   ]
  },
  {
   "cell_type": "markdown",
   "metadata": {},
   "source": [
    "Let's plot this:"
   ]
  },
  {
   "cell_type": "code",
   "execution_count": 186,
   "metadata": {},
   "outputs": [
    {
     "data": {
      "text/plain": [
       "(38.30338826380006, 49.115242904200045, 28.65414008565007, 37.792650859350076)"
      ]
     },
     "execution_count": 186,
     "metadata": {},
     "output_type": "execute_result"
    },
    {
     "data": {
      "image/png": "[encoded data removed]",
      "text/plain": [
       "<Figure size 720x720 with 1 Axes>"
      ]
     },
     "metadata": {},
     "output_type": "display_data"
    }
   ],
   "source": [
    "ax = Iraq.plot(figsize = (10,10), facecolor = 'none')\n",
    "ax.axis('off')"
   ]
  },
  {
   "cell_type": "markdown",
   "metadata": {},
   "source": [
    "Now that we have the different governorates, we can assign data to them using geopandas functionality:"
   ]
  },
  {
   "cell_type": "code",
   "execution_count": 187,
   "metadata": {},
   "outputs": [
    {
     "data": {
      "text/plain": [
       "Index(['ISO', 'EVENT_ID_CNTY', 'EVENT_ID_NO_CNTY', 'EVENT_DATE', 'YEAR',\n",
       "       'TIME_PRECISION', 'EVENT_TYPE', 'SUB_EVENT_TYPE', 'ACTOR1',\n",
       "       'ASSOC_ACTOR_1', 'INTER1', 'ACTOR2', 'ASSOC_ACTOR_2', 'INTER2',\n",
       "       'INTERACTION', 'REGION', 'COUNTRY', 'ADMIN1', 'ADMIN2', 'ADMIN3',\n",
       "       'LOCATION', 'LATITUDE', 'LONGITUDE', 'GEO_PRECISION', 'SOURCE',\n",
       "       'SOURCE_SCALE', 'NOTES', 'FATALITIES', 'TIMESTAMP'],\n",
       "      dtype='object')"
      ]
     },
     "execution_count": 187,
     "metadata": {},
     "output_type": "execute_result"
    }
   ],
   "source": [
    "Conflict.columns"
   ]
  },
  {
   "cell_type": "code",
   "execution_count": 188,
   "metadata": {},
   "outputs": [
    {
     "data": {
      "text/html": [
       "<div>\n",
       "<style scoped>\n",
       "    .dataframe tbody tr th:only-of-type {\n",
       "        vertical-align: middle;\n",
       "    }\n",
       "\n",
       "    .dataframe tbody tr th {\n",
       "        vertical-align: top;\n",
       "    }\n",
       "\n",
       "    .dataframe thead th {\n",
       "        text-align: right;\n",
       "    }\n",
       "</style>\n",
       "<table border=\"1\" class=\"dataframe\">\n",
       "  <thead>\n",
       "    <tr style=\"text-align: right;\">\n",
       "      <th></th>\n",
       "      <th>EVENT_DATE</th>\n",
       "      <th>YEAR</th>\n",
       "      <th>ACTOR1</th>\n",
       "      <th>ACTOR2</th>\n",
       "      <th>ADMIN3</th>\n",
       "      <th>LOCATION</th>\n",
       "      <th>LONGITUDE</th>\n",
       "      <th>LATITUDE</th>\n",
       "      <th>FATALITIES</th>\n",
       "      <th>NOTES</th>\n",
       "      <th>geometry</th>\n",
       "    </tr>\n",
       "  </thead>\n",
       "  <tbody>\n",
       "    <tr>\n",
       "      <th>49</th>\n",
       "      <td>2016-01-03</td>\n",
       "      <td>2016</td>\n",
       "      <td>Protesters (Iraq)</td>\n",
       "      <td>NaN</td>\n",
       "      <td>Markaz Al Kut</td>\n",
       "      <td>Kut</td>\n",
       "      <td>45.825</td>\n",
       "      <td>32.506</td>\n",
       "      <td>0</td>\n",
       "      <td>On Jan 03, hundreds of protesters rallied outs...</td>\n",
       "      <td>POINT (45.82500 32.50600)</td>\n",
       "    </tr>\n",
       "    <tr>\n",
       "      <th>94</th>\n",
       "      <td>2016-01-04</td>\n",
       "      <td>2016</td>\n",
       "      <td>Protesters (Iraq)</td>\n",
       "      <td>NaN</td>\n",
       "      <td>Markaz Al Basrah</td>\n",
       "      <td>Basrah</td>\n",
       "      <td>47.798</td>\n",
       "      <td>30.533</td>\n",
       "      <td>0</td>\n",
       "      <td>On Jan 04, protesters gathered in Basra to pro...</td>\n",
       "      <td>POINT (47.79800 30.53300)</td>\n",
       "    </tr>\n",
       "    <tr>\n",
       "      <th>95</th>\n",
       "      <td>2016-01-04</td>\n",
       "      <td>2016</td>\n",
       "      <td>Protesters (Iraq)</td>\n",
       "      <td>NaN</td>\n",
       "      <td>Markaz Kerbela</td>\n",
       "      <td>Kerbala</td>\n",
       "      <td>44.016</td>\n",
       "      <td>32.598</td>\n",
       "      <td>0</td>\n",
       "      <td>On Jan 04, protesters gathered in Kerbala to p...</td>\n",
       "      <td>POINT (44.01600 32.59800)</td>\n",
       "    </tr>\n",
       "    <tr>\n",
       "      <th>96</th>\n",
       "      <td>2016-01-04</td>\n",
       "      <td>2016</td>\n",
       "      <td>Protesters (Iraq)</td>\n",
       "      <td>NaN</td>\n",
       "      <td>Markaz Al Najaf</td>\n",
       "      <td>Najaf</td>\n",
       "      <td>44.346</td>\n",
       "      <td>32.026</td>\n",
       "      <td>0</td>\n",
       "      <td>On Jan 04, protesters gathered in Najaf to pro...</td>\n",
       "      <td>POINT (44.34600 32.02600)</td>\n",
       "    </tr>\n",
       "    <tr>\n",
       "      <th>102</th>\n",
       "      <td>2016-01-04</td>\n",
       "      <td>2016</td>\n",
       "      <td>Protesters (Iraq)</td>\n",
       "      <td>NaN</td>\n",
       "      <td>NaN</td>\n",
       "      <td>Baghdad</td>\n",
       "      <td>44.421</td>\n",
       "      <td>33.325</td>\n",
       "      <td>0</td>\n",
       "      <td>On Jan 04, protesters marched outside the Gree...</td>\n",
       "      <td>POINT (44.42100 33.32500)</td>\n",
       "    </tr>\n",
       "  </tbody>\n",
       "</table>\n",
       "</div>"
      ],
      "text/plain": [
       "     EVENT_DATE  YEAR             ACTOR1 ACTOR2            ADMIN3 LOCATION  \\\n",
       "49   2016-01-03  2016  Protesters (Iraq)    NaN     Markaz Al Kut      Kut   \n",
       "94   2016-01-04  2016  Protesters (Iraq)    NaN  Markaz Al Basrah   Basrah   \n",
       "95   2016-01-04  2016  Protesters (Iraq)    NaN    Markaz Kerbela  Kerbala   \n",
       "96   2016-01-04  2016  Protesters (Iraq)    NaN   Markaz Al Najaf    Najaf   \n",
       "102  2016-01-04  2016  Protesters (Iraq)    NaN               NaN  Baghdad   \n",
       "\n",
       "     LONGITUDE  LATITUDE  FATALITIES  \\\n",
       "49      45.825    32.506           0   \n",
       "94      47.798    30.533           0   \n",
       "95      44.016    32.598           0   \n",
       "96      44.346    32.026           0   \n",
       "102     44.421    33.325           0   \n",
       "\n",
       "                                                 NOTES  \\\n",
       "49   On Jan 03, hundreds of protesters rallied outs...   \n",
       "94   On Jan 04, protesters gathered in Basra to pro...   \n",
       "95   On Jan 04, protesters gathered in Kerbala to p...   \n",
       "96   On Jan 04, protesters gathered in Najaf to pro...   \n",
       "102  On Jan 04, protesters marched outside the Gree...   \n",
       "\n",
       "                      geometry  \n",
       "49   POINT (45.82500 32.50600)  \n",
       "94   POINT (47.79800 30.53300)  \n",
       "95   POINT (44.01600 32.59800)  \n",
       "96   POINT (44.34600 32.02600)  \n",
       "102  POINT (44.42100 33.32500)  "
      ]
     },
     "execution_count": 188,
     "metadata": {},
     "output_type": "execute_result"
    }
   ],
   "source": [
    "# First, we must ensure they use the same coordinate system. In both cases the data uses WGS 84 so we are fine.\n",
    "\n",
    "# We are going to join the two datasets. We are going to join them as geodataframes, so we have to convert the conflict data into a geodataframe.\n",
    "\n",
    "# For the Conflict Data, we do not need all the columns either.\n",
    "\n",
    "ConflictGeoDataFrame = geopandas.GeoDataFrame(Conflict[['EVENT_DATE', 'YEAR', 'ACTOR1', 'ACTOR2', 'ADMIN3', 'LOCATION', 'LONGITUDE', 'LATITUDE','FATALITIES', 'NOTES']], geometry=geopandas.points_from_xy(Conflict['LONGITUDE'], Conflict['LATITUDE']))\n",
    "\n",
    "ConflictGeoDataFrame.head(5)\n",
    "\n",
    "#Iraq.sjoin(Conflict, how=\"left\")"
   ]
  },
  {
   "cell_type": "markdown",
   "metadata": {},
   "source": [
    "Notice that converting the dataframe to a geodataframe, using longitude and latitude, we create a new column called geometry. We can drop the longtiude and latitude columns now."
   ]
  },
  {
   "cell_type": "code",
   "execution_count": 189,
   "metadata": {},
   "outputs": [
    {
     "data": {
      "text/html": [
       "<div>\n",
       "<style scoped>\n",
       "    .dataframe tbody tr th:only-of-type {\n",
       "        vertical-align: middle;\n",
       "    }\n",
       "\n",
       "    .dataframe tbody tr th {\n",
       "        vertical-align: top;\n",
       "    }\n",
       "\n",
       "    .dataframe thead th {\n",
       "        text-align: right;\n",
       "    }\n",
       "</style>\n",
       "<table border=\"1\" class=\"dataframe\">\n",
       "  <thead>\n",
       "    <tr style=\"text-align: right;\">\n",
       "      <th></th>\n",
       "      <th>EVENT_DATE</th>\n",
       "      <th>YEAR</th>\n",
       "      <th>ACTOR1</th>\n",
       "      <th>ACTOR2</th>\n",
       "      <th>ADMIN3</th>\n",
       "      <th>LOCATION</th>\n",
       "      <th>FATALITIES</th>\n",
       "      <th>NOTES</th>\n",
       "      <th>geometry</th>\n",
       "    </tr>\n",
       "  </thead>\n",
       "  <tbody>\n",
       "    <tr>\n",
       "      <th>49</th>\n",
       "      <td>2016-01-03</td>\n",
       "      <td>2016</td>\n",
       "      <td>Protesters (Iraq)</td>\n",
       "      <td>NaN</td>\n",
       "      <td>Markaz Al Kut</td>\n",
       "      <td>Kut</td>\n",
       "      <td>0</td>\n",
       "      <td>On Jan 03, hundreds of protesters rallied outs...</td>\n",
       "      <td>POINT (45.82500 32.50600)</td>\n",
       "    </tr>\n",
       "  </tbody>\n",
       "</table>\n",
       "</div>"
      ],
      "text/plain": [
       "    EVENT_DATE  YEAR             ACTOR1 ACTOR2         ADMIN3 LOCATION  \\\n",
       "49  2016-01-03  2016  Protesters (Iraq)    NaN  Markaz Al Kut      Kut   \n",
       "\n",
       "    FATALITIES                                              NOTES  \\\n",
       "49           0  On Jan 03, hundreds of protesters rallied outs...   \n",
       "\n",
       "                     geometry  \n",
       "49  POINT (45.82500 32.50600)  "
      ]
     },
     "execution_count": 189,
     "metadata": {},
     "output_type": "execute_result"
    }
   ],
   "source": [
    "ConflictGeoDataFrame.drop(columns=['LONGITUDE', 'LATITUDE'], inplace=True)\n",
    "\n",
    "ConflictGeoDataFrame.head(1)"
   ]
  },
  {
   "cell_type": "markdown",
   "metadata": {},
   "source": [
    "Now we can focus on joining the data, to get number of protests by governorate:"
   ]
  },
  {
   "cell_type": "code",
   "execution_count": 190,
   "metadata": {},
   "outputs": [
    {
     "data": {
      "text/html": [
       "<div>\n",
       "<style scoped>\n",
       "    .dataframe tbody tr th:only-of-type {\n",
       "        vertical-align: middle;\n",
       "    }\n",
       "\n",
       "    .dataframe tbody tr th {\n",
       "        vertical-align: top;\n",
       "    }\n",
       "\n",
       "    .dataframe thead th {\n",
       "        text-align: right;\n",
       "    }\n",
       "</style>\n",
       "<table border=\"1\" class=\"dataframe\">\n",
       "  <thead>\n",
       "    <tr style=\"text-align: right;\">\n",
       "      <th></th>\n",
       "      <th>geometry</th>\n",
       "      <th>Governorate Number</th>\n",
       "      <th>index_right</th>\n",
       "      <th>EVENT_DATE</th>\n",
       "      <th>YEAR</th>\n",
       "      <th>ACTOR1</th>\n",
       "      <th>ACTOR2</th>\n",
       "      <th>ADMIN3</th>\n",
       "      <th>LOCATION</th>\n",
       "      <th>FATALITIES</th>\n",
       "      <th>NOTES</th>\n",
       "    </tr>\n",
       "  </thead>\n",
       "  <tbody>\n",
       "    <tr>\n",
       "      <th>0</th>\n",
       "      <td>POLYGON ((41.27872 35.14914, 41.30727 35.14842...</td>\n",
       "      <td>0</td>\n",
       "      <td>35968</td>\n",
       "      <td>2022-02-01</td>\n",
       "      <td>2022</td>\n",
       "      <td>Protesters (Iraq)</td>\n",
       "      <td>NaN</td>\n",
       "      <td>Markaz Al Ramadi</td>\n",
       "      <td>Ramadi</td>\n",
       "      <td>0</td>\n",
       "      <td>On 1 February 2022, dozens protested in front ...</td>\n",
       "    </tr>\n",
       "    <tr>\n",
       "      <th>0</th>\n",
       "      <td>POLYGON ((41.27872 35.14914, 41.30727 35.14842...</td>\n",
       "      <td>0</td>\n",
       "      <td>20798</td>\n",
       "      <td>2019-08-24</td>\n",
       "      <td>2019</td>\n",
       "      <td>Protesters (Iraq)</td>\n",
       "      <td>NaN</td>\n",
       "      <td>Markaz Al Ramadi</td>\n",
       "      <td>Ramadi</td>\n",
       "      <td>0</td>\n",
       "      <td>On 24 August 2019, dozens of residents of Kasi...</td>\n",
       "    </tr>\n",
       "    <tr>\n",
       "      <th>0</th>\n",
       "      <td>POLYGON ((41.27872 35.14914, 41.30727 35.14842...</td>\n",
       "      <td>0</td>\n",
       "      <td>22842</td>\n",
       "      <td>2020-01-14</td>\n",
       "      <td>2020</td>\n",
       "      <td>Protesters (Iraq)</td>\n",
       "      <td>NaN</td>\n",
       "      <td>Al Garma</td>\n",
       "      <td>Karma</td>\n",
       "      <td>0</td>\n",
       "      <td>On 14 January 2020, a big number of student pr...</td>\n",
       "    </tr>\n",
       "    <tr>\n",
       "      <th>0</th>\n",
       "      <td>POLYGON ((41.27872 35.14914, 41.30727 35.14842...</td>\n",
       "      <td>0</td>\n",
       "      <td>6939</td>\n",
       "      <td>2016-08-28</td>\n",
       "      <td>2016</td>\n",
       "      <td>Protesters (Iraq)</td>\n",
       "      <td>NaN</td>\n",
       "      <td>Al Baghdady</td>\n",
       "      <td>Al Baghdadi</td>\n",
       "      <td>0</td>\n",
       "      <td>On 28 August 2016, tens of residents of al Bag...</td>\n",
       "    </tr>\n",
       "    <tr>\n",
       "      <th>1</th>\n",
       "      <td>POLYGON ((47.66124 31.26825, 47.66724 31.26725...</td>\n",
       "      <td>1</td>\n",
       "      <td>35714</td>\n",
       "      <td>2022-01-12</td>\n",
       "      <td>2022</td>\n",
       "      <td>Protesters (Iraq)</td>\n",
       "      <td>NaN</td>\n",
       "      <td>Al Thagar</td>\n",
       "      <td>Majnoon Oil Field</td>\n",
       "      <td>0</td>\n",
       "      <td>On 12 January 2022, engineering graduates prot...</td>\n",
       "    </tr>\n",
       "  </tbody>\n",
       "</table>\n",
       "</div>"
      ],
      "text/plain": [
       "                                            geometry  Governorate Number  \\\n",
       "0  POLYGON ((41.27872 35.14914, 41.30727 35.14842...                   0   \n",
       "0  POLYGON ((41.27872 35.14914, 41.30727 35.14842...                   0   \n",
       "0  POLYGON ((41.27872 35.14914, 41.30727 35.14842...                   0   \n",
       "0  POLYGON ((41.27872 35.14914, 41.30727 35.14842...                   0   \n",
       "1  POLYGON ((47.66124 31.26825, 47.66724 31.26725...                   1   \n",
       "\n",
       "   index_right  EVENT_DATE  YEAR             ACTOR1 ACTOR2            ADMIN3  \\\n",
       "0        35968  2022-02-01  2022  Protesters (Iraq)    NaN  Markaz Al Ramadi   \n",
       "0        20798  2019-08-24  2019  Protesters (Iraq)    NaN  Markaz Al Ramadi   \n",
       "0        22842  2020-01-14  2020  Protesters (Iraq)    NaN          Al Garma   \n",
       "0         6939  2016-08-28  2016  Protesters (Iraq)    NaN       Al Baghdady   \n",
       "1        35714  2022-01-12  2022  Protesters (Iraq)    NaN         Al Thagar   \n",
       "\n",
       "            LOCATION  FATALITIES  \\\n",
       "0             Ramadi           0   \n",
       "0             Ramadi           0   \n",
       "0              Karma           0   \n",
       "0        Al Baghdadi           0   \n",
       "1  Majnoon Oil Field           0   \n",
       "\n",
       "                                               NOTES  \n",
       "0  On 1 February 2022, dozens protested in front ...  \n",
       "0  On 24 August 2019, dozens of residents of Kasi...  \n",
       "0  On 14 January 2020, a big number of student pr...  \n",
       "0  On 28 August 2016, tens of residents of al Bag...  \n",
       "1  On 12 January 2022, engineering graduates prot...  "
      ]
     },
     "execution_count": 190,
     "metadata": {},
     "output_type": "execute_result"
    }
   ],
   "source": [
    "Protests = Iraq.sjoin(ConflictGeoDataFrame, how = 'inner')\n",
    "\n",
    "Protests.head(5)"
   ]
  },
  {
   "cell_type": "markdown",
   "metadata": {},
   "source": [
    "We can plot this as chloropleth map, with colour denoting the number of protests by governorate over the entire time period. To do this, we simply add a new column which equals '1', which we can aggregate as a sum by the column geometry."
   ]
  },
  {
   "cell_type": "code",
   "execution_count": 191,
   "metadata": {},
   "outputs": [
    {
     "data": {
      "text/plain": [
       "Governorate Number\n",
       "0       4\n",
       "1     962\n",
       "2     551\n",
       "3     117\n",
       "4     431\n",
       "5     370\n",
       "6     100\n",
       "7     478\n",
       "8     131\n",
       "9      30\n",
       "10    159\n",
       "11    117\n",
       "12     83\n",
       "13    251\n",
       "14     89\n",
       "15     20\n",
       "16    720\n",
       "17    319\n",
       "Name: Number of Protests, dtype: int64"
      ]
     },
     "execution_count": 191,
     "metadata": {},
     "output_type": "execute_result"
    }
   ],
   "source": [
    "Protests['Number of Protests'] = 1\n",
    "\n",
    "Protests = Protests[['geometry', 'Governorate Number', 'Number of Protests']]\n",
    "\n",
    "# Create a new list of values:\n",
    "IraqProtests = Protests.groupby('Governorate Number')['Number of Protests'].agg('sum')\n",
    "\n",
    "IraqProtests"
   ]
  },
  {
   "cell_type": "markdown",
   "metadata": {},
   "source": [
    "Now we can merge the aggregated protest data with our Governarate data."
   ]
  },
  {
   "cell_type": "code",
   "execution_count": 192,
   "metadata": {},
   "outputs": [
    {
     "data": {
      "text/html": [
       "<div>\n",
       "<style scoped>\n",
       "    .dataframe tbody tr th:only-of-type {\n",
       "        vertical-align: middle;\n",
       "    }\n",
       "\n",
       "    .dataframe tbody tr th {\n",
       "        vertical-align: top;\n",
       "    }\n",
       "\n",
       "    .dataframe thead th {\n",
       "        text-align: right;\n",
       "    }\n",
       "</style>\n",
       "<table border=\"1\" class=\"dataframe\">\n",
       "  <thead>\n",
       "    <tr style=\"text-align: right;\">\n",
       "      <th></th>\n",
       "      <th>geometry</th>\n",
       "      <th>Governorate Number</th>\n",
       "      <th>Number of Protests</th>\n",
       "    </tr>\n",
       "  </thead>\n",
       "  <tbody>\n",
       "    <tr>\n",
       "      <th>0</th>\n",
       "      <td>POLYGON ((41.27872 35.14914, 41.30727 35.14842...</td>\n",
       "      <td>0</td>\n",
       "      <td>4</td>\n",
       "    </tr>\n",
       "    <tr>\n",
       "      <th>1</th>\n",
       "      <td>POLYGON ((47.66124 31.26825, 47.66724 31.26725...</td>\n",
       "      <td>1</td>\n",
       "      <td>962</td>\n",
       "    </tr>\n",
       "    <tr>\n",
       "      <th>2</th>\n",
       "      <td>POLYGON ((45.24242 31.74129, 45.24884 31.74048...</td>\n",
       "      <td>2</td>\n",
       "      <td>551</td>\n",
       "    </tr>\n",
       "    <tr>\n",
       "      <th>3</th>\n",
       "      <td>POLYGON ((44.34425 32.31681, 44.34995 32.30601...</td>\n",
       "      <td>3</td>\n",
       "      <td>117</td>\n",
       "    </tr>\n",
       "    <tr>\n",
       "      <th>4</th>\n",
       "      <td>POLYGON ((45.26993 32.35793, 45.27767 32.35674...</td>\n",
       "      <td>4</td>\n",
       "      <td>431</td>\n",
       "    </tr>\n",
       "    <tr>\n",
       "      <th>5</th>\n",
       "      <td>POLYGON ((45.09023 36.44960, 45.09166 36.44032...</td>\n",
       "      <td>5</td>\n",
       "      <td>370</td>\n",
       "    </tr>\n",
       "    <tr>\n",
       "      <th>6</th>\n",
       "      <td>POLYGON ((44.17148 32.99686, 44.17383 32.99275...</td>\n",
       "      <td>6</td>\n",
       "      <td>100</td>\n",
       "    </tr>\n",
       "    <tr>\n",
       "      <th>7</th>\n",
       "      <td>POLYGON ((44.41936 33.71985, 44.42863 33.71357...</td>\n",
       "      <td>7</td>\n",
       "      <td>478</td>\n",
       "    </tr>\n",
       "    <tr>\n",
       "      <th>8</th>\n",
       "      <td>POLYGON ((45.78010 34.83632, 45.77224 34.82990...</td>\n",
       "      <td>8</td>\n",
       "      <td>131</td>\n",
       "    </tr>\n",
       "    <tr>\n",
       "      <th>9</th>\n",
       "      <td>POLYGON ((42.84654 37.34800, 42.85154 37.34657...</td>\n",
       "      <td>9</td>\n",
       "      <td>30</td>\n",
       "    </tr>\n",
       "    <tr>\n",
       "      <th>10</th>\n",
       "      <td>POLYGON ((44.07717 37.31461, 44.09715 37.31176...</td>\n",
       "      <td>10</td>\n",
       "      <td>159</td>\n",
       "    </tr>\n",
       "    <tr>\n",
       "      <th>11</th>\n",
       "      <td>POLYGON ((44.05829 32.81361, 44.09910 32.80125...</td>\n",
       "      <td>11</td>\n",
       "      <td>117</td>\n",
       "    </tr>\n",
       "    <tr>\n",
       "      <th>12</th>\n",
       "      <td>POLYGON ((44.64227 35.84797, 44.64481 35.83528...</td>\n",
       "      <td>12</td>\n",
       "      <td>83</td>\n",
       "    </tr>\n",
       "    <tr>\n",
       "      <th>13</th>\n",
       "      <td>POLYGON ((47.16777 32.45186, 47.17278 32.45136...</td>\n",
       "      <td>13</td>\n",
       "      <td>251</td>\n",
       "    </tr>\n",
       "    <tr>\n",
       "      <th>14</th>\n",
       "      <td>POLYGON ((42.47820 36.94396, 42.49105 36.93968...</td>\n",
       "      <td>14</td>\n",
       "      <td>89</td>\n",
       "    </tr>\n",
       "    <tr>\n",
       "      <th>15</th>\n",
       "      <td>POLYGON ((43.40187 35.63754, 43.40544 35.62237...</td>\n",
       "      <td>15</td>\n",
       "      <td>20</td>\n",
       "    </tr>\n",
       "    <tr>\n",
       "      <th>16</th>\n",
       "      <td>POLYGON ((46.09025 31.99684, 46.09382 31.99506...</td>\n",
       "      <td>16</td>\n",
       "      <td>720</td>\n",
       "    </tr>\n",
       "    <tr>\n",
       "      <th>17</th>\n",
       "      <td>POLYGON ((46.18722 33.19252, 46.19614 33.19014...</td>\n",
       "      <td>17</td>\n",
       "      <td>319</td>\n",
       "    </tr>\n",
       "  </tbody>\n",
       "</table>\n",
       "</div>"
      ],
      "text/plain": [
       "                                             geometry  Governorate Number  \\\n",
       "0   POLYGON ((41.27872 35.14914, 41.30727 35.14842...                   0   \n",
       "1   POLYGON ((47.66124 31.26825, 47.66724 31.26725...                   1   \n",
       "2   POLYGON ((45.24242 31.74129, 45.24884 31.74048...                   2   \n",
       "3   POLYGON ((44.34425 32.31681, 44.34995 32.30601...                   3   \n",
       "4   POLYGON ((45.26993 32.35793, 45.27767 32.35674...                   4   \n",
       "5   POLYGON ((45.09023 36.44960, 45.09166 36.44032...                   5   \n",
       "6   POLYGON ((44.17148 32.99686, 44.17383 32.99275...                   6   \n",
       "7   POLYGON ((44.41936 33.71985, 44.42863 33.71357...                   7   \n",
       "8   POLYGON ((45.78010 34.83632, 45.77224 34.82990...                   8   \n",
       "9   POLYGON ((42.84654 37.34800, 42.85154 37.34657...                   9   \n",
       "10  POLYGON ((44.07717 37.31461, 44.09715 37.31176...                  10   \n",
       "11  POLYGON ((44.05829 32.81361, 44.09910 32.80125...                  11   \n",
       "12  POLYGON ((44.64227 35.84797, 44.64481 35.83528...                  12   \n",
       "13  POLYGON ((47.16777 32.45186, 47.17278 32.45136...                  13   \n",
       "14  POLYGON ((42.47820 36.94396, 42.49105 36.93968...                  14   \n",
       "15  POLYGON ((43.40187 35.63754, 43.40544 35.62237...                  15   \n",
       "16  POLYGON ((46.09025 31.99684, 46.09382 31.99506...                  16   \n",
       "17  POLYGON ((46.18722 33.19252, 46.19614 33.19014...                  17   \n",
       "\n",
       "    Number of Protests  \n",
       "0                    4  \n",
       "1                  962  \n",
       "2                  551  \n",
       "3                  117  \n",
       "4                  431  \n",
       "5                  370  \n",
       "6                  100  \n",
       "7                  478  \n",
       "8                  131  \n",
       "9                   30  \n",
       "10                 159  \n",
       "11                 117  \n",
       "12                  83  \n",
       "13                 251  \n",
       "14                  89  \n",
       "15                  20  \n",
       "16                 720  \n",
       "17                 319  "
      ]
     },
     "execution_count": 192,
     "metadata": {},
     "output_type": "execute_result"
    }
   ],
   "source": [
    "Iraq['Number of Protests'] = IraqProtests\n",
    "Iraq"
   ]
  },
  {
   "cell_type": "code",
   "execution_count": 193,
   "metadata": {},
   "outputs": [
    {
     "data": {
      "text/plain": [
       "(38.30338826380006, 49.115242904200045, 28.65414008565007, 37.792650859350076)"
      ]
     },
     "execution_count": 193,
     "metadata": {},
     "output_type": "execute_result"
    },
    {
     "data": {
      "image/png": "[encoded data removed]",
      "text/plain": [
       "<Figure size 720x720 with 2 Axes>"
      ]
     },
     "metadata": {},
     "output_type": "display_data"
    }
   ],
   "source": [
    "ax = Iraq.plot(column='Number of Protests', cmap = 'viridis', legend=True, figsize=(10,10),legend_kwds={'label': \"Number of Protests Since 2016\",'orientation': \"horizontal\", \"pad\": 0.01}, vmin=0, vmax=1000);\n",
    "\n",
    "ax.axis('off')"
   ]
  },
  {
   "cell_type": "markdown",
   "metadata": {},
   "source": [
    "We can add the location of the protests as well, in combining data in one plot."
   ]
  },
  {
   "cell_type": "code",
   "execution_count": 194,
   "metadata": {},
   "outputs": [
    {
     "data": {
      "text/plain": [
       "(38.30338826380006, 49.115242904200045, 28.65414008565007, 37.792650859350076)"
      ]
     },
     "execution_count": 194,
     "metadata": {},
     "output_type": "execute_result"
    },
    {
     "data": {
      "image/png": "[encoded data removed]",
      "text/plain": [
       "<Figure size 720x720 with 2 Axes>"
      ]
     },
     "metadata": {},
     "output_type": "display_data"
    }
   ],
   "source": [
    "ax = Iraq.plot(column='Number of Protests', cmap = 'viridis', legend=True, figsize=(10,10),legend_kwds={'label': \"Number of Protests Since 2016\",'orientation': \"horizontal\", \"pad\": 0.01}, vmin=0, vmax=1000);\n",
    "\n",
    "ConflictGeoDataFrame.plot(color='r', alpha=0.2, markersize = 5, ax=ax)\n",
    "\n",
    "ax.axis('off')"
   ]
  },
  {
   "cell_type": "markdown",
   "metadata": {},
   "source": [
    "We can come back to visualizing this as a Bar graph by governorate."
   ]
  },
  {
   "cell_type": "code",
   "execution_count": 195,
   "metadata": {},
   "outputs": [
    {
     "data": {
      "text/plain": [
       "<AxesSubplot:xlabel='Governorate Number', ylabel='Number of Protests'>"
      ]
     },
     "execution_count": 195,
     "metadata": {},
     "output_type": "execute_result"
    },
    {
     "data": {
      "image/png": "[encoded data removed]",
      "text/plain": [
       "<Figure size 432x288 with 1 Axes>"
      ]
     },
     "metadata": {},
     "output_type": "display_data"
    }
   ],
   "source": [
    "seaborn.barplot(x = \"Governorate Number\", y=\"Number of Protests\", data = Iraq)"
   ]
  },
  {
   "cell_type": "markdown",
   "metadata": {},
   "source": [
    "And if we wanted to, look at the most frequent locations for protests:"
   ]
  },
  {
   "cell_type": "code",
   "execution_count": 196,
   "metadata": {},
   "outputs": [
    {
     "data": {
      "text/plain": [
       "Basrah        636\n",
       "Nassriya      534\n",
       "As Samawah    432\n",
       "Diwaniya      344\n",
       "Kut           281\n",
       "Name: LOCATION, dtype: int64"
      ]
     },
     "execution_count": 196,
     "metadata": {},
     "output_type": "execute_result"
    }
   ],
   "source": [
    "FrequencyofProtest = ConflictGeoDataFrame['LOCATION'].value_counts()\n",
    "\n",
    "FrequencyofProtest.head(5)"
   ]
  },
  {
   "cell_type": "markdown",
   "metadata": {},
   "source": [
    "As a bar chart of the top 20 locations:"
   ]
  },
  {
   "cell_type": "code",
   "execution_count": 197,
   "metadata": {},
   "outputs": [
    {
     "data": {
      "text/plain": [
       "<AxesSubplot:xlabel='Location', ylabel='Number of Protests'>"
      ]
     },
     "execution_count": 197,
     "metadata": {},
     "output_type": "execute_result"
    },
    {
     "data": {
      "image/png": "[encoded data removed]",
      "text/plain": [
       "<Figure size 2160x720 with 1 Axes>"
      ]
     },
     "metadata": {},
     "output_type": "display_data"
    }
   ],
   "source": [
    "FrequencyofProtest = FrequencyofProtest.head(20)\n",
    "\n",
    "FrequencyofProtest = pandas.DataFrame({'Location':FrequencyofProtest.index, 'Number of Protests': FrequencyofProtest.values})\n",
    "\n",
    "# Create a large graph\n",
    "fig, ax = plt.subplots(figsize = (30, 10))\n",
    "\n",
    "seaborn.barplot(x = \"Location\", y=\"Number of Protests\", data = FrequencyofProtest, ax=ax)"
   ]
  }
 ],
 "metadata": {
  "interpreter": {
   "hash": "8acec0d39119eba12dc4ba7b48516797473659170c990c8cdf122c30311559b7"
  },
  "kernelspec": {
   "display_name": "Python 3.10.2 ('DataScience')",
   "language": "python",
   "name": "python3"
  },
  "language_info": {
   "codemirror_mode": {
    "name": "ipython",
    "version": 3
   },
   "file_extension": ".py",
   "mimetype": "text/x-python",
   "name": "python",
   "nbconvert_exporter": "python",
   "pygments_lexer": "ipython3",
   "version": "3.10.2"
  },
  "orig_nbformat": 4
 },
 "nbformat": 4,
 "nbformat_minor": 2
}
