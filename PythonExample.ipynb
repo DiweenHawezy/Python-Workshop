{
 "cells": [
  {
   "cell_type": "markdown",
   "metadata": {},
   "source": [
    "# Step 1:\n",
    "\n",
    "## Data Loading, Processing and Plotting\n",
    "\n",
    "We import the packages we are going to use. Each package is a tool within the Python ecosystem that someone has created that allow us to do something new without coding it ourselves (such as image analysis).\n",
    "\n",
    "In the next example, we are going to load an Excel CSV file and analyse it. So we will need the following packages; Pandas and Numpy.\n",
    "\n",
    "Pandas is our Dataframe package, numpy is our Numerical Python package"
   ]
  },
  {
   "cell_type": "code",
   "execution_count": null,
   "metadata": {},
   "outputs": [],
   "source": [
    "import pandas\n",
    "import numpy"
   ]
  },
  {
   "cell_type": "markdown",
   "metadata": {},
   "source": [
    "Example 1: we are going to load a dataframe into python and display it"
   ]
  },
  {
   "cell_type": "code",
   "execution_count": null,
   "metadata": {},
   "outputs": [],
   "source": [
    "# Load the csv file\n",
    "\n",
    "df = pandas.read_csv(\"Data/Example.csv\")\n",
    "\n",
    "# Show first two rows (Notice the 2)\n",
    "df.head(2)\n",
    "\n",
    "# Notice that we didn't create a variable for this operation displaying the first tw rows, so it doesn't exist in our variable explorer."
   ]
  },
  {
   "cell_type": "markdown",
   "metadata": {},
   "source": [
    "Examine the data by column:"
   ]
  },
  {
   "cell_type": "code",
   "execution_count": null,
   "metadata": {},
   "outputs": [],
   "source": [
    "df.info()"
   ]
  },
  {
   "cell_type": "markdown",
   "metadata": {},
   "source": [
    "Count the Number of Missing Values in each column:"
   ]
  },
  {
   "cell_type": "code",
   "execution_count": null,
   "metadata": {},
   "outputs": [],
   "source": [
    "df.isnull().sum()"
   ]
  },
  {
   "cell_type": "code",
   "execution_count": null,
   "metadata": {},
   "outputs": [],
   "source": [
    "# Let's look at variable assignment and displaying the dataframe.\n",
    "\n",
    "LastTwoRows = df.tail(2)\n",
    "\n",
    "# This doesn't print as we are assigning a variable. But we can display the variable this way:\n",
    "\n",
    "print(LastTwoRows)\n",
    "\n",
    "# Or\n",
    "\n",
    "LastTwoRows\n",
    "\n",
    "# Notice the difference in Display"
   ]
  },
  {
   "cell_type": "markdown",
   "metadata": {},
   "source": [
    "Example 2: We are going to filter a dataframe"
   ]
  },
  {
   "cell_type": "code",
   "execution_count": null,
   "metadata": {},
   "outputs": [],
   "source": [
    "# We only want data for Turkey\n",
    "\n",
    "TurkeyRow = df.loc[df['Country'] == \"Turkey\"]\n",
    "\n",
    "# Here we use .loc and filter by the column name 'Country'\n",
    "\n",
    "TurkeyRow"
   ]
  },
  {
   "cell_type": "markdown",
   "metadata": {},
   "source": [
    "### Lambda Functions\n",
    "\n",
    "Lambda Functions are functions without a name. It is typically used for row-wise filtering logic. Here we will round the Population column row by row."
   ]
  },
  {
   "cell_type": "code",
   "execution_count": null,
   "metadata": {},
   "outputs": [],
   "source": [
    "# Note we wrote Country differently here, instead of square brackets and quotation marks. We use quotation marks if there is a space in the column name\n",
    "\n",
    "RoundedCountryPopulation = df['Population (Millions)'].apply(lambda x: round(x,1))\n",
    "\n",
    "RoundedCountryPopulation"
   ]
  },
  {
   "cell_type": "markdown",
   "metadata": {},
   "source": [
    "Note that in Python, there are many ways of doing things and that it is quicker to round the whole column in one go. In this case as the workload is so small we won't see a difference, unless your computer is quite old:"
   ]
  },
  {
   "cell_type": "code",
   "execution_count": null,
   "metadata": {},
   "outputs": [],
   "source": [
    "RoundedCountryPopulation = round(df['Population (Millions)'], 1)\n",
    "\n",
    "RoundedCountryPopulation"
   ]
  },
  {
   "cell_type": "markdown",
   "metadata": {},
   "source": [
    "### Loops\n",
    "\n",
    "Loops in python allow us to, like lambda functions, allow us to iterate and repeat an operation on data. Here, we will only round the Population if the country name is Turkey:"
   ]
  },
  {
   "cell_type": "code",
   "execution_count": null,
   "metadata": {},
   "outputs": [],
   "source": [
    "# We copy the data so we don't affect the original data\n",
    "RoundedCountryPopulation = df.copy()\n",
    "\n",
    "for i in range(0, len(RoundedCountryPopulation)):\n",
    "\n",
    "    x = RoundedCountryPopulation.Country.loc[i]\n",
    "\n",
    "    if x == 'Turkey':\n",
    "\n",
    "        # Print Turkey if the Country is Turkey\n",
    "        print(x)\n",
    "\n",
    "        # Round the Value for Turkey's population\n",
    "        RoundedCountryPopulation.loc[i, 'Population (Millions)'] = round(RoundedCountryPopulation.loc[i, 'Population (Millions)'], 0)\n",
    "\n",
    "    else:\n",
    "\n",
    "        # Do nothing for any other country\n",
    "\n",
    "        pass\n",
    "\n",
    "print('Population of Turkey has been Rounded to the nearest whole number')\n",
    "\n",
    "RoundedCountryPopulation"
   ]
  },
  {
   "cell_type": "markdown",
   "metadata": {},
   "source": [
    "Notice if we write this in the same way as a Lambda Function, it's much more concise:"
   ]
  },
  {
   "cell_type": "code",
   "execution_count": null,
   "metadata": {},
   "outputs": [],
   "source": [
    "RoundedCountryPopulation = df[['Country', 'Population (Millions)']].apply(lambda x: round(x['Population (Millions)'],0) if x.Country == 'Turkey' else x['Population (Millions)'], axis=1)\n",
    "\n",
    "RoundedCountryPopulation"
   ]
  },
  {
   "cell_type": "markdown",
   "metadata": {},
   "source": [
    "### Replacing Text\n",
    "\n",
    "Sometimes with Data you'll need to replace text that is incorrect in the data. Here, we change Iran to Tunisia."
   ]
  },
  {
   "cell_type": "code",
   "execution_count": null,
   "metadata": {},
   "outputs": [],
   "source": [
    "df.Country = df.Country.replace('Iran', 'Tunisia')\n",
    "\n",
    "df"
   ]
  },
  {
   "cell_type": "markdown",
   "metadata": {},
   "source": [
    "We can replace characters as well, row by row."
   ]
  },
  {
   "cell_type": "code",
   "execution_count": null,
   "metadata": {},
   "outputs": [],
   "source": [
    "# Here we won't assign a variable and go row by row, see the for which represents a loop.\n",
    "\n",
    "[x.replace(\"a\", '-') for x in df.Country]"
   ]
  },
  {
   "cell_type": "markdown",
   "metadata": {},
   "source": [
    "Let's utilize these skills to graph data we've been using."
   ]
  },
  {
   "cell_type": "code",
   "execution_count": null,
   "metadata": {},
   "outputs": [],
   "source": [
    "ForeignMinistryStatements = pandas.read_csv('Data/Turkish Foreign Ministry Statements - Press Releases - KRG.csv')\n",
    "\n",
    "ForeignMinistryStatements.head(5)"
   ]
  },
  {
   "cell_type": "markdown",
   "metadata": {},
   "source": [
    "We are going to graph the number of PKK mentions in MFA statements over time. Therefore we only need the date and the 'Which Group' Column."
   ]
  },
  {
   "cell_type": "code",
   "execution_count": null,
   "metadata": {},
   "outputs": [],
   "source": [
    "ForeignMinistryStatements = ForeignMinistryStatements[['Date (dd/mm/yyyy)', 'Which group?']]\n",
    "\n",
    "ForeignMinistryStatements.head(5)"
   ]
  },
  {
   "cell_type": "markdown",
   "metadata": {},
   "source": [
    "For the dates, we need it to be in one common format. We write a filter for both formats, then fill the missing values in the first group with those of the second and use that as the date column"
   ]
  },
  {
   "cell_type": "code",
   "execution_count": null,
   "metadata": {},
   "outputs": [],
   "source": [
    "#ForeignMinistryStatements['Date (dd/mm/yyyy)'].replace('-', '/', inplace = True)\n",
    "\n",
    "Date1 = pandas.to_datetime(ForeignMinistryStatements['Date (dd/mm/yyyy)'], errors='coerce', format='%Y-%m-%d')\n",
    "Date2 = pandas.to_datetime(ForeignMinistryStatements['Date (dd/mm/yyyy)'], errors='coerce', format='%d/%m/%Y')\n",
    "\n",
    "ForeignMinistryStatements['Date (dd/mm/yyyy)'] = Date1.fillna(Date2)\n",
    "\n",
    "ForeignMinistryStatements.head(5)"
   ]
  },
  {
   "cell_type": "markdown",
   "metadata": {},
   "source": [
    "Now we only want the data for PKK mentions:"
   ]
  },
  {
   "cell_type": "code",
   "execution_count": null,
   "metadata": {},
   "outputs": [],
   "source": [
    "ForeignMinistryStatements = ForeignMinistryStatements[(ForeignMinistryStatements['Which group?'] == 'PKK') | (ForeignMinistryStatements['Which group?'] == 'Pkk') | (ForeignMinistryStatements['Which group?'] == 'pkk')]\n",
    "\n",
    "ForeignMinistryStatements"
   ]
  },
  {
   "cell_type": "markdown",
   "metadata": {},
   "source": [
    "There are 73 statements. How does this look by year?"
   ]
  },
  {
   "cell_type": "code",
   "execution_count": null,
   "metadata": {},
   "outputs": [],
   "source": [
    "ForeignMinistryStatements['Which group?'] = 1\n",
    "\n",
    "ForeignMinistryStatements.set_index('Date (dd/mm/yyyy)', inplace=True, drop=True)\n",
    "\n",
    "ForeignMinistryStatements = ForeignMinistryStatements.resample('Y').agg('sum')\n",
    "\n",
    "ForeignMinistryStatements.head(5)"
   ]
  },
  {
   "cell_type": "markdown",
   "metadata": {},
   "source": [
    "Let's plot this:"
   ]
  },
  {
   "cell_type": "code",
   "execution_count": null,
   "metadata": {},
   "outputs": [],
   "source": [
    "import matplotlib.pyplot as plt\n",
    "from matplotlib import dates\n",
    "import seaborn\n",
    "\n",
    "plt.figure(figsize=(15,8))\n",
    "ax = seaborn.lineplot(x=\"Date (dd/mm/yyyy)\", y=\"Which group?\", data=ForeignMinistryStatements)\n",
    "\n",
    "ax.set(xlabel = 'Year', ylabel = 'PKK Mentions')\n",
    "\n",
    "seaborn.set(font_scale = 1)\n",
    "\n",
    "ax.set(xticks=ForeignMinistryStatements.index)\n",
    "ax.xaxis.set_major_formatter(dates.DateFormatter(\"%Y\"))"
   ]
  },
  {
   "cell_type": "markdown",
   "metadata": {},
   "source": [
    "# Step 2:\n",
    "\n",
    "## GeoSpatial Data and Plotting\n",
    "\n",
    "Python is quite useful for graphing quantitative data as well as geospatial data."
   ]
  },
  {
   "cell_type": "code",
   "execution_count": null,
   "metadata": {},
   "outputs": [],
   "source": [
    "# Let's start by importing some conflict data:\n",
    "\n",
    "Conflict = pandas.read_csv(\"Data/IraqConflictData.csv\")\n",
    "\n",
    "Conflict.head(5)"
   ]
  },
  {
   "cell_type": "markdown",
   "metadata": {},
   "source": [
    "We want to view the number of protests in Iraq on a map. Let's filter to protests by event type."
   ]
  },
  {
   "cell_type": "code",
   "execution_count": null,
   "metadata": {},
   "outputs": [],
   "source": [
    "#Let's explore the the different event types in this column before we filter:\n",
    "\n",
    "Conflict[\"EVENT_TYPE\"].unique()\n",
    "\n",
    "#* We only want Protest Events."
   ]
  },
  {
   "cell_type": "code",
   "execution_count": null,
   "metadata": {},
   "outputs": [],
   "source": [
    "# Maybe we'd want to examine the frequency of each event type:\n",
    "\n",
    "Conflict[\"EVENT_TYPE\"].value_counts()"
   ]
  },
  {
   "cell_type": "code",
   "execution_count": null,
   "metadata": {},
   "outputs": [],
   "source": [
    "Conflict = Conflict[Conflict[\"EVENT_TYPE\"] == 'Protests']\n",
    "\n",
    "Conflict.head(5)"
   ]
  },
  {
   "cell_type": "markdown",
   "metadata": {},
   "source": [
    "In order to plot these on a map, we would need to import the Geopandas package, a geospatial python package that extends pandas functionality to geospatial data."
   ]
  },
  {
   "cell_type": "code",
   "execution_count": null,
   "metadata": {},
   "outputs": [],
   "source": [
    "import geopandas"
   ]
  },
  {
   "cell_type": "markdown",
   "metadata": {},
   "source": [
    "Let's also import the boundaries for Iraq's governorates, so we can segregate protest data by governorate. Notice we added a new column 'Governorate Number'. We will use this as the ID number for the Governorates as the data did not come with Governorate Names."
   ]
  },
  {
   "cell_type": "code",
   "execution_count": null,
   "metadata": {},
   "outputs": [],
   "source": [
    "# We got this data from: https://data.humdata.org/dataset/cod-ab-irq?\n",
    "\n",
    "# UN e.t.c have lots of data, particularly for Iraq. See what you can find.\n",
    "\n",
    "Iraq = geopandas.read_file(\"Map/iraq_governates.shp\")\n",
    "\n",
    "Iraq['Governorate Number'] = numpy.arange(len(Iraq))\n",
    "\n",
    "Iraq.head(10)"
   ]
  },
  {
   "cell_type": "markdown",
   "metadata": {},
   "source": [
    "Let's plot this:"
   ]
  },
  {
   "cell_type": "code",
   "execution_count": null,
   "metadata": {},
   "outputs": [],
   "source": [
    "ax = Iraq.plot(figsize = (10,10), facecolor = 'none')\n",
    "ax.axis('off')"
   ]
  },
  {
   "cell_type": "markdown",
   "metadata": {},
   "source": [
    "Now that we have the different governorates, we can assign data to them using geopandas functionality:"
   ]
  },
  {
   "cell_type": "code",
   "execution_count": null,
   "metadata": {},
   "outputs": [],
   "source": [
    "Conflict.columns"
   ]
  },
  {
   "cell_type": "code",
   "execution_count": null,
   "metadata": {},
   "outputs": [],
   "source": [
    "# First, we must ensure they use the same coordinate system. In both cases the data uses WGS 84 so we are fine.\n",
    "\n",
    "# We are going to join the two datasets. We are going to join them as geodataframes, so we have to convert the conflict data into a geodataframe.\n",
    "\n",
    "# For the Conflict Data, we do not need all the columns either.\n",
    "\n",
    "ConflictGeoDataFrame = geopandas.GeoDataFrame(Conflict[['EVENT_DATE', 'YEAR', 'ACTOR1', 'ACTOR2', 'ADMIN3', 'LOCATION', 'LONGITUDE', 'LATITUDE','FATALITIES', 'NOTES']], geometry=geopandas.points_from_xy(Conflict['LONGITUDE'], Conflict['LATITUDE']))\n",
    "\n",
    "ConflictGeoDataFrame.head(5)\n",
    "\n",
    "#Iraq.sjoin(Conflict, how=\"left\")"
   ]
  },
  {
   "cell_type": "markdown",
   "metadata": {},
   "source": [
    "Notice that converting the dataframe to a geodataframe, using longitude and latitude, we create a new column called geometry. We can drop the longtiude and latitude columns now."
   ]
  },
  {
   "cell_type": "code",
   "execution_count": null,
   "metadata": {},
   "outputs": [],
   "source": [
    "ConflictGeoDataFrame.drop(columns=['LONGITUDE', 'LATITUDE'], inplace=True)\n",
    "\n",
    "ConflictGeoDataFrame.head(1)"
   ]
  },
  {
   "cell_type": "markdown",
   "metadata": {},
   "source": [
    "Now we can focus on joining the data, to get number of protests by governorate:"
   ]
  },
  {
   "cell_type": "code",
   "execution_count": null,
   "metadata": {},
   "outputs": [],
   "source": [
    "Protests = Iraq.sjoin(ConflictGeoDataFrame, how = 'inner')\n",
    "\n",
    "Protests.head(5)"
   ]
  },
  {
   "cell_type": "markdown",
   "metadata": {},
   "source": [
    "We can plot this as chloropleth map, with colour denoting the number of protests by governorate over the entire time period. To do this, we simply add a new column which equals '1', which we can aggregate as a sum by the column geometry."
   ]
  },
  {
   "cell_type": "code",
   "execution_count": null,
   "metadata": {},
   "outputs": [],
   "source": [
    "Protests['Number of Protests'] = 1\n",
    "\n",
    "Protests = Protests[['geometry', 'Governorate Number', 'Number of Protests']]\n",
    "\n",
    "# Create a new list of values:\n",
    "IraqProtests = Protests.groupby('Governorate Number')['Number of Protests'].agg('sum')\n",
    "\n",
    "IraqProtests"
   ]
  },
  {
   "cell_type": "markdown",
   "metadata": {},
   "source": [
    "Now we can merge the aggregated protest data with our Governarate data."
   ]
  },
  {
   "cell_type": "code",
   "execution_count": null,
   "metadata": {},
   "outputs": [],
   "source": [
    "Iraq['Number of Protests'] = IraqProtests\n",
    "Iraq"
   ]
  },
  {
   "cell_type": "code",
   "execution_count": null,
   "metadata": {},
   "outputs": [],
   "source": [
    "ax = Iraq.plot(column='Number of Protests', cmap = 'viridis', legend=True, figsize=(10,10),legend_kwds={'label': \"Number of Protests Since 2016\",'orientation': \"horizontal\", \"pad\": 0.01}, vmin=0, vmax=1000);\n",
    "\n",
    "ax.axis('off')"
   ]
  },
  {
   "cell_type": "markdown",
   "metadata": {},
   "source": [
    "We can add the location of the protests as well, in combining data in one plot."
   ]
  },
  {
   "cell_type": "code",
   "execution_count": null,
   "metadata": {},
   "outputs": [],
   "source": [
    "ax = Iraq.plot(column='Number of Protests', cmap = 'viridis', legend=True, figsize=(10,10),legend_kwds={'label': \"Number of Protests Since 2016\",'orientation': \"horizontal\", \"pad\": 0.01}, vmin=0, vmax=1000);\n",
    "\n",
    "ConflictGeoDataFrame.plot(color='r', alpha=0.2, markersize = 5, ax=ax)\n",
    "\n",
    "ax.axis('off')"
   ]
  },
  {
   "cell_type": "markdown",
   "metadata": {},
   "source": [
    "We can come back to visualizing this as a Bar graph by governorate."
   ]
  },
  {
   "cell_type": "code",
   "execution_count": null,
   "metadata": {},
   "outputs": [],
   "source": [
    "seaborn.barplot(x = \"Governorate Number\", y=\"Number of Protests\", data = Iraq)"
   ]
  },
  {
   "cell_type": "markdown",
   "metadata": {},
   "source": [
    "And if we wanted to, look at the most frequent locations for protests:"
   ]
  },
  {
   "cell_type": "code",
   "execution_count": null,
   "metadata": {},
   "outputs": [],
   "source": [
    "FrequencyofProtest = ConflictGeoDataFrame['LOCATION'].value_counts()\n",
    "\n",
    "FrequencyofProtest.head(5)"
   ]
  },
  {
   "cell_type": "markdown",
   "metadata": {},
   "source": [
    "As a bar chart of the top 20 locations:"
   ]
  },
  {
   "cell_type": "code",
   "execution_count": null,
   "metadata": {},
   "outputs": [],
   "source": [
    "FrequencyofProtest = FrequencyofProtest.head(20)\n",
    "\n",
    "FrequencyofProtest = pandas.DataFrame({'Location':FrequencyofProtest.index, 'Number of Protests': FrequencyofProtest.values})\n",
    "\n",
    "fig, ax = plt.subplots(figsize = (30, 10))\n",
    "\n",
    "seaborn.barplot(x = \"Location\", y=\"Number of Protests\", data = FrequencyofProtest, ax=ax)"
   ]
  }
 ],
 "metadata": {
  "interpreter": {
   "hash": "8acec0d39119eba12dc4ba7b48516797473659170c990c8cdf122c30311559b7"
  },
  "kernelspec": {
   "display_name": "Python 3.10.2 ('DataScience')",
   "language": "python",
   "name": "python3"
  },
  "language_info": {
   "codemirror_mode": {
    "name": "ipython",
    "version": 3
   },
   "file_extension": ".py",
   "mimetype": "text/x-python",
   "name": "python",
   "nbconvert_exporter": "python",
   "pygments_lexer": "ipython3",
   "version": "3.10.2"
  },
  "orig_nbformat": 4
 },
 "nbformat": 4,
 "nbformat_minor": 2
}
