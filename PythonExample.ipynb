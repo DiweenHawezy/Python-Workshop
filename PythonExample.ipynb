{
 "cells": [
  {
   "cell_type": "markdown",
   "metadata": {},
   "source": [
    "# Step 1:\n",
    "\n",
    "We import the packages we are going to use. Each package is a tool within the Python ecosystem that someone has created that allow us to do something new without coding it ourselves (such as image analysis).\n",
    "\n",
    "In the next example, we are going to load an Excel CSV file and analyse it. So we will need the following packages; Pandas and Numpy.\n",
    "\n",
    "Pandas is our Dataframe package, numpy is our Numerical Python package"
   ]
  },
  {
   "cell_type": "code",
   "execution_count": 53,
   "metadata": {},
   "outputs": [],
   "source": [
    "import pandas\n",
    "import numpy"
   ]
  },
  {
   "cell_type": "markdown",
   "metadata": {},
   "source": [
    "Example 1: we are going to load a dataframe into python and display it"
   ]
  },
  {
   "cell_type": "code",
   "execution_count": 16,
   "metadata": {},
   "outputs": [
    {
     "data": {
      "text/html": [
       "<div>\n",
       "<style scoped>\n",
       "    .dataframe tbody tr th:only-of-type {\n",
       "        vertical-align: middle;\n",
       "    }\n",
       "\n",
       "    .dataframe tbody tr th {\n",
       "        vertical-align: top;\n",
       "    }\n",
       "\n",
       "    .dataframe thead th {\n",
       "        text-align: right;\n",
       "    }\n",
       "</style>\n",
       "<table border=\"1\" class=\"dataframe\">\n",
       "  <thead>\n",
       "    <tr style=\"text-align: right;\">\n",
       "      <th></th>\n",
       "      <th>Country</th>\n",
       "      <th>Population (Millions)</th>\n",
       "    </tr>\n",
       "  </thead>\n",
       "  <tbody>\n",
       "    <tr>\n",
       "      <th>0</th>\n",
       "      <td>Turkey</td>\n",
       "      <td>84.34</td>\n",
       "    </tr>\n",
       "    <tr>\n",
       "      <th>1</th>\n",
       "      <td>Iraq</td>\n",
       "      <td>40.22</td>\n",
       "    </tr>\n",
       "  </tbody>\n",
       "</table>\n",
       "</div>"
      ],
      "text/plain": [
       "  Country  Population (Millions)\n",
       "0  Turkey                  84.34\n",
       "1    Iraq                  40.22"
      ]
     },
     "execution_count": 16,
     "metadata": {},
     "output_type": "execute_result"
    }
   ],
   "source": [
    "# Load the csv file\n",
    "\n",
    "df = pandas.read_csv(\"Data/Example.csv\")\n",
    "\n",
    "# Show first two rows (Notice the 2)\n",
    "df.head(2)\n",
    "\n",
    "# Notice that we didn't create a variable for this operation displaying the first tw rows, so it doesn't exist in our variable explorer."
   ]
  },
  {
   "cell_type": "code",
   "execution_count": 17,
   "metadata": {},
   "outputs": [
    {
     "name": "stdout",
     "output_type": "stream",
     "text": [
      "  Country  Population (Millions)\n",
      "2    Iran                  83.99\n",
      "3   Syria                  17.50\n"
     ]
    },
    {
     "data": {
      "text/html": [
       "<div>\n",
       "<style scoped>\n",
       "    .dataframe tbody tr th:only-of-type {\n",
       "        vertical-align: middle;\n",
       "    }\n",
       "\n",
       "    .dataframe tbody tr th {\n",
       "        vertical-align: top;\n",
       "    }\n",
       "\n",
       "    .dataframe thead th {\n",
       "        text-align: right;\n",
       "    }\n",
       "</style>\n",
       "<table border=\"1\" class=\"dataframe\">\n",
       "  <thead>\n",
       "    <tr style=\"text-align: right;\">\n",
       "      <th></th>\n",
       "      <th>Country</th>\n",
       "      <th>Population (Millions)</th>\n",
       "    </tr>\n",
       "  </thead>\n",
       "  <tbody>\n",
       "    <tr>\n",
       "      <th>2</th>\n",
       "      <td>Iran</td>\n",
       "      <td>83.99</td>\n",
       "    </tr>\n",
       "    <tr>\n",
       "      <th>3</th>\n",
       "      <td>Syria</td>\n",
       "      <td>17.50</td>\n",
       "    </tr>\n",
       "  </tbody>\n",
       "</table>\n",
       "</div>"
      ],
      "text/plain": [
       "  Country  Population (Millions)\n",
       "2    Iran                  83.99\n",
       "3   Syria                  17.50"
      ]
     },
     "execution_count": 17,
     "metadata": {},
     "output_type": "execute_result"
    }
   ],
   "source": [
    "# Let's look at variable assignment and displaying the dataframe.\n",
    "\n",
    "LastTwoRows = df.tail(2)\n",
    "\n",
    "# This doesn't print as we are assigning a variable. But we can display the variable this way:\n",
    "\n",
    "print(LastTwoRows)\n",
    "\n",
    "# Or\n",
    "\n",
    "LastTwoRows\n",
    "\n",
    "# Notice the difference in Display"
   ]
  },
  {
   "cell_type": "markdown",
   "metadata": {},
   "source": [
    "Example 2: We are going to filter a dataframe"
   ]
  },
  {
   "cell_type": "code",
   "execution_count": 18,
   "metadata": {},
   "outputs": [
    {
     "data": {
      "text/html": [
       "<div>\n",
       "<style scoped>\n",
       "    .dataframe tbody tr th:only-of-type {\n",
       "        vertical-align: middle;\n",
       "    }\n",
       "\n",
       "    .dataframe tbody tr th {\n",
       "        vertical-align: top;\n",
       "    }\n",
       "\n",
       "    .dataframe thead th {\n",
       "        text-align: right;\n",
       "    }\n",
       "</style>\n",
       "<table border=\"1\" class=\"dataframe\">\n",
       "  <thead>\n",
       "    <tr style=\"text-align: right;\">\n",
       "      <th></th>\n",
       "      <th>Country</th>\n",
       "      <th>Population (Millions)</th>\n",
       "    </tr>\n",
       "  </thead>\n",
       "  <tbody>\n",
       "    <tr>\n",
       "      <th>0</th>\n",
       "      <td>Turkey</td>\n",
       "      <td>84.34</td>\n",
       "    </tr>\n",
       "  </tbody>\n",
       "</table>\n",
       "</div>"
      ],
      "text/plain": [
       "  Country  Population (Millions)\n",
       "0  Turkey                  84.34"
      ]
     },
     "execution_count": 18,
     "metadata": {},
     "output_type": "execute_result"
    }
   ],
   "source": [
    "# We only want data for Turkey\n",
    "\n",
    "TurkeyRow = df.loc[df['Country'] == \"Turkey\"]\n",
    "\n",
    "# Here we use .loc and filter by the column name 'Country'\n",
    "\n",
    "TurkeyRow"
   ]
  },
  {
   "cell_type": "markdown",
   "metadata": {},
   "source": [
    "### Lambda Functions\n",
    "\n",
    "Lambda Functions are functions without a name. It is typically used for row-wise filtering logic. Here we will round the Population column row by row."
   ]
  },
  {
   "cell_type": "code",
   "execution_count": 23,
   "metadata": {},
   "outputs": [
    {
     "data": {
      "text/plain": [
       "0    84.3\n",
       "1    40.2\n",
       "2    84.0\n",
       "3    17.5\n",
       "Name: Population (Millions), dtype: float64"
      ]
     },
     "execution_count": 23,
     "metadata": {},
     "output_type": "execute_result"
    }
   ],
   "source": [
    "# Note we wrote Country differently here, instead of square brackets and quotation marks. We use quotation marks if there is a space in the column name\n",
    "\n",
    "RoundedCountryPopulation = df['Population (Millions)'].apply(lambda x: round(x,1))\n",
    "\n",
    "RoundedCountryPopulation"
   ]
  },
  {
   "cell_type": "markdown",
   "metadata": {},
   "source": [
    "Note that in Python, there are many ways of doing things and that it is quicker to round the whole column in one go. In this case as the workload is so small we won't see a difference, unless your computer is quite old:"
   ]
  },
  {
   "cell_type": "code",
   "execution_count": 24,
   "metadata": {},
   "outputs": [
    {
     "data": {
      "text/plain": [
       "0    84.3\n",
       "1    40.2\n",
       "2    84.0\n",
       "3    17.5\n",
       "Name: Population (Millions), dtype: float64"
      ]
     },
     "execution_count": 24,
     "metadata": {},
     "output_type": "execute_result"
    }
   ],
   "source": [
    "RoundedCountryPopulation = round(df['Population (Millions)'], 1)\n",
    "\n",
    "RoundedCountryPopulation"
   ]
  },
  {
   "cell_type": "markdown",
   "metadata": {},
   "source": [
    "### Loops\n",
    "\n",
    "Loops in python allow us to, like lambda functions, allow us to iterate and repeat an operation on data. Here, we will only round the Population if the country name is Turkey:"
   ]
  },
  {
   "cell_type": "code",
   "execution_count": 31,
   "metadata": {},
   "outputs": [
    {
     "name": "stdout",
     "output_type": "stream",
     "text": [
      "Turkey\n",
      "Population of Turkey has been Rounded to the nearest whole number\n"
     ]
    },
    {
     "data": {
      "text/html": [
       "<div>\n",
       "<style scoped>\n",
       "    .dataframe tbody tr th:only-of-type {\n",
       "        vertical-align: middle;\n",
       "    }\n",
       "\n",
       "    .dataframe tbody tr th {\n",
       "        vertical-align: top;\n",
       "    }\n",
       "\n",
       "    .dataframe thead th {\n",
       "        text-align: right;\n",
       "    }\n",
       "</style>\n",
       "<table border=\"1\" class=\"dataframe\">\n",
       "  <thead>\n",
       "    <tr style=\"text-align: right;\">\n",
       "      <th></th>\n",
       "      <th>Country</th>\n",
       "      <th>Population (Millions)</th>\n",
       "    </tr>\n",
       "  </thead>\n",
       "  <tbody>\n",
       "    <tr>\n",
       "      <th>0</th>\n",
       "      <td>Turkey</td>\n",
       "      <td>84.00</td>\n",
       "    </tr>\n",
       "    <tr>\n",
       "      <th>1</th>\n",
       "      <td>Iraq</td>\n",
       "      <td>40.22</td>\n",
       "    </tr>\n",
       "    <tr>\n",
       "      <th>2</th>\n",
       "      <td>Iran</td>\n",
       "      <td>83.99</td>\n",
       "    </tr>\n",
       "    <tr>\n",
       "      <th>3</th>\n",
       "      <td>Syria</td>\n",
       "      <td>17.50</td>\n",
       "    </tr>\n",
       "  </tbody>\n",
       "</table>\n",
       "</div>"
      ],
      "text/plain": [
       "  Country  Population (Millions)\n",
       "0  Turkey                  84.00\n",
       "1    Iraq                  40.22\n",
       "2    Iran                  83.99\n",
       "3   Syria                  17.50"
      ]
     },
     "execution_count": 31,
     "metadata": {},
     "output_type": "execute_result"
    }
   ],
   "source": [
    "# We copy the data so we don't affect the original data\n",
    "RoundedCountryPopulation = df.copy()\n",
    "\n",
    "for i in range(0, len(RoundedCountryPopulation)):\n",
    "\n",
    "    x = RoundedCountryPopulation.Country.loc[i]\n",
    "\n",
    "    if x == 'Turkey':\n",
    "\n",
    "        # Print Turkey if the Country is Turkey\n",
    "        print(x)\n",
    "\n",
    "        # Round the Value for Turkey's population\n",
    "        RoundedCountryPopulation.loc[i, 'Population (Millions)'] = round(RoundedCountryPopulation.loc[i, 'Population (Millions)'], 0)\n",
    "\n",
    "    else:\n",
    "\n",
    "        # Do nothing for any other country\n",
    "\n",
    "        pass\n",
    "\n",
    "print('Population of Turkey has been Rounded to the nearest whole number')\n",
    "\n",
    "RoundedCountryPopulation"
   ]
  },
  {
   "cell_type": "markdown",
   "metadata": {},
   "source": [
    "Notice if we write this in the same way as a Lambda Function, it's much more concise:"
   ]
  },
  {
   "cell_type": "code",
   "execution_count": 49,
   "metadata": {},
   "outputs": [
    {
     "data": {
      "text/plain": [
       "0    84.00\n",
       "1    40.22\n",
       "2    83.99\n",
       "3    17.50\n",
       "dtype: float64"
      ]
     },
     "execution_count": 49,
     "metadata": {},
     "output_type": "execute_result"
    }
   ],
   "source": [
    "RoundedCountryPopulation = df[['Country', 'Population (Millions)']].apply(lambda x: round(x['Population (Millions)'],0) if x.Country == 'Turkey' else x['Population (Millions)'], axis=1)\n",
    "\n",
    "RoundedCountryPopulation"
   ]
  },
  {
   "cell_type": "markdown",
   "metadata": {},
   "source": [
    "### Replacing Text\n",
    "\n",
    "Sometimes with Data you'll need to replace text that is incorrect in the data. Here, we change Iran to Tunisia."
   ]
  },
  {
   "cell_type": "code",
   "execution_count": 50,
   "metadata": {},
   "outputs": [
    {
     "data": {
      "text/html": [
       "<div>\n",
       "<style scoped>\n",
       "    .dataframe tbody tr th:only-of-type {\n",
       "        vertical-align: middle;\n",
       "    }\n",
       "\n",
       "    .dataframe tbody tr th {\n",
       "        vertical-align: top;\n",
       "    }\n",
       "\n",
       "    .dataframe thead th {\n",
       "        text-align: right;\n",
       "    }\n",
       "</style>\n",
       "<table border=\"1\" class=\"dataframe\">\n",
       "  <thead>\n",
       "    <tr style=\"text-align: right;\">\n",
       "      <th></th>\n",
       "      <th>Country</th>\n",
       "      <th>Population (Millions)</th>\n",
       "    </tr>\n",
       "  </thead>\n",
       "  <tbody>\n",
       "    <tr>\n",
       "      <th>0</th>\n",
       "      <td>Turkey</td>\n",
       "      <td>84.34</td>\n",
       "    </tr>\n",
       "    <tr>\n",
       "      <th>1</th>\n",
       "      <td>Iraq</td>\n",
       "      <td>40.22</td>\n",
       "    </tr>\n",
       "    <tr>\n",
       "      <th>2</th>\n",
       "      <td>Tunisia</td>\n",
       "      <td>83.99</td>\n",
       "    </tr>\n",
       "    <tr>\n",
       "      <th>3</th>\n",
       "      <td>Syria</td>\n",
       "      <td>17.50</td>\n",
       "    </tr>\n",
       "  </tbody>\n",
       "</table>\n",
       "</div>"
      ],
      "text/plain": [
       "   Country  Population (Millions)\n",
       "0   Turkey                  84.34\n",
       "1     Iraq                  40.22\n",
       "2  Tunisia                  83.99\n",
       "3    Syria                  17.50"
      ]
     },
     "execution_count": 50,
     "metadata": {},
     "output_type": "execute_result"
    }
   ],
   "source": [
    "df.Country = df.Country.replace('Iran', 'Tunisia')\n",
    "\n",
    "df"
   ]
  },
  {
   "cell_type": "markdown",
   "metadata": {},
   "source": [
    "We can replace characters as well, row by row."
   ]
  },
  {
   "cell_type": "code",
   "execution_count": 51,
   "metadata": {},
   "outputs": [
    {
     "data": {
      "text/plain": [
       "['Turkey', 'Ir-q', 'Tunisi-', 'Syri-']"
      ]
     },
     "execution_count": 51,
     "metadata": {},
     "output_type": "execute_result"
    }
   ],
   "source": [
    "# Here we won't assign a variable and go row by row, see the for which represents a loop.\n",
    "\n",
    "[x.replace(\"a\", '-') for x in df.Country]"
   ]
  },
  {
   "cell_type": "markdown",
   "metadata": {},
   "source": [
    "Let's utilize these skills to graph data we've been using."
   ]
  },
  {
   "cell_type": "code",
   "execution_count": 132,
   "metadata": {},
   "outputs": [
    {
     "data": {
      "text/html": [
       "<div>\n",
       "<style scoped>\n",
       "    .dataframe tbody tr th:only-of-type {\n",
       "        vertical-align: middle;\n",
       "    }\n",
       "\n",
       "    .dataframe tbody tr th {\n",
       "        vertical-align: top;\n",
       "    }\n",
       "\n",
       "    .dataframe thead th {\n",
       "        text-align: right;\n",
       "    }\n",
       "</style>\n",
       "<table border=\"1\" class=\"dataframe\">\n",
       "  <thead>\n",
       "    <tr style=\"text-align: right;\">\n",
       "      <th></th>\n",
       "      <th>Date (dd/mm/yyyy)</th>\n",
       "      <th>Date (mm/dd/yyyy)</th>\n",
       "      <th>Title</th>\n",
       "      <th>English Title</th>\n",
       "      <th>Link</th>\n",
       "      <th>Sentiment</th>\n",
       "      <th>Kurds in Turkey</th>\n",
       "      <th>Kurds in Syria</th>\n",
       "      <th>Kurds in Iraq</th>\n",
       "      <th>Kurds in Iran</th>\n",
       "      <th>Turkey's National Security</th>\n",
       "      <th>Independence or Autonomy</th>\n",
       "      <th>PKK/SDF/YPG/YPJ/YBS/QSD</th>\n",
       "      <th>Which group?</th>\n",
       "      <th>ISIS/Daesh</th>\n",
       "      <th>Undefined terrorism or national security threat</th>\n",
       "      <th>Full Text</th>\n",
       "    </tr>\n",
       "  </thead>\n",
       "  <tbody>\n",
       "    <tr>\n",
       "      <th>0</th>\n",
       "      <td>1998-04-01</td>\n",
       "      <td>1/4/1998</td>\n",
       "      <td>Türkiye Dışişleri Bakanı Sayın İsmail Cem'in İ...</td>\n",
       "      <td>Letter sent by Turkish Foreign Minister Mr. İs...</td>\n",
       "      <td>https://www.mfa.gov.tr/letter-sent-by-turkish-...</td>\n",
       "      <td>NaN</td>\n",
       "      <td>0</td>\n",
       "      <td>0</td>\n",
       "      <td>0.0</td>\n",
       "      <td>0</td>\n",
       "      <td>0</td>\n",
       "      <td>0.0</td>\n",
       "      <td>0</td>\n",
       "      <td>0</td>\n",
       "      <td>0</td>\n",
       "      <td>0.0</td>\n",
       "      <td>Dear Colleague and Friend, \\n \\n I have receiv...</td>\n",
       "    </tr>\n",
       "    <tr>\n",
       "      <th>1</th>\n",
       "      <td>1998-03-03</td>\n",
       "      <td>3/3/1998</td>\n",
       "      <td>Türk ve Ürdün Tarafları Tarafından Verilen Ort...</td>\n",
       "      <td>Joint Communique Given By Turkish And Jordan S...</td>\n",
       "      <td>https://www.mfa.gov.tr/joint-communique-given-...</td>\n",
       "      <td>NaN</td>\n",
       "      <td>0</td>\n",
       "      <td>0</td>\n",
       "      <td>0.0</td>\n",
       "      <td>0</td>\n",
       "      <td>0</td>\n",
       "      <td>0.0</td>\n",
       "      <td>0</td>\n",
       "      <td>0</td>\n",
       "      <td>0</td>\n",
       "      <td>0.0</td>\n",
       "      <td>On 26-27 February 1998, His Excellency Mr. Ism...</td>\n",
       "    </tr>\n",
       "    <tr>\n",
       "      <th>2</th>\n",
       "      <td>20/10/1998</td>\n",
       "      <td>10/20/1998</td>\n",
       "      <td>Dışişleri Bakanı İsmail Cem'in Türkiye-Suriye ...</td>\n",
       "      <td>Statement Made By İsmail Cem, Foreign Minister...</td>\n",
       "      <td>https://www.mfa.gov.tr/_p_statement-made-by-is...</td>\n",
       "      <td>NaN</td>\n",
       "      <td>0</td>\n",
       "      <td>0</td>\n",
       "      <td>0.0</td>\n",
       "      <td>0</td>\n",
       "      <td>0</td>\n",
       "      <td>0.0</td>\n",
       "      <td>1</td>\n",
       "      <td>PKK</td>\n",
       "      <td>0</td>\n",
       "      <td>0.0</td>\n",
       "      <td>\"We will carefully monitor the implementation ...</td>\n",
       "    </tr>\n",
       "    <tr>\n",
       "      <th>3</th>\n",
       "      <td>21/12/1998</td>\n",
       "      <td>12/21/1998</td>\n",
       "      <td>Türkiye, Irak'a Yönelik ABD-İngiltere Ortak Ha...</td>\n",
       "      <td>Turkey Welcomes The Cessation Of The Joint US-...</td>\n",
       "      <td>https://www.mfa.gov.tr/turkey-welcomes-the-ces...</td>\n",
       "      <td>NaN</td>\n",
       "      <td>0</td>\n",
       "      <td>0</td>\n",
       "      <td>0.0</td>\n",
       "      <td>0</td>\n",
       "      <td>0</td>\n",
       "      <td>0.0</td>\n",
       "      <td>0</td>\n",
       "      <td>0</td>\n",
       "      <td>0</td>\n",
       "      <td>0.0</td>\n",
       "      <td>Turkey welcomes the cessation on 20 December o...</td>\n",
       "    </tr>\n",
       "    <tr>\n",
       "      <th>4</th>\n",
       "      <td>28/12/1998</td>\n",
       "      <td>12/28/1998</td>\n",
       "      <td>Basın Bülteni Irak güçleri ile ABD Uçağı arası...</td>\n",
       "      <td>Press Release Regarding the latest clash betwe...</td>\n",
       "      <td>https://www.mfa.gov.tr/_p_press-release-regard...</td>\n",
       "      <td>NaN</td>\n",
       "      <td>0</td>\n",
       "      <td>0</td>\n",
       "      <td>0.0</td>\n",
       "      <td>0</td>\n",
       "      <td>0</td>\n",
       "      <td>0.0</td>\n",
       "      <td>0</td>\n",
       "      <td>0</td>\n",
       "      <td>0</td>\n",
       "      <td>0.0</td>\n",
       "      <td>Today, Iraqi forces missiles fired ground-to-a...</td>\n",
       "    </tr>\n",
       "  </tbody>\n",
       "</table>\n",
       "</div>"
      ],
      "text/plain": [
       "  Date (dd/mm/yyyy) Date (mm/dd/yyyy)  \\\n",
       "0        1998-04-01          1/4/1998   \n",
       "1        1998-03-03          3/3/1998   \n",
       "2        20/10/1998        10/20/1998   \n",
       "3        21/12/1998        12/21/1998   \n",
       "4        28/12/1998        12/28/1998   \n",
       "\n",
       "                                               Title  \\\n",
       "0  Türkiye Dışişleri Bakanı Sayın İsmail Cem'in İ...   \n",
       "1  Türk ve Ürdün Tarafları Tarafından Verilen Ort...   \n",
       "2  Dışişleri Bakanı İsmail Cem'in Türkiye-Suriye ...   \n",
       "3  Türkiye, Irak'a Yönelik ABD-İngiltere Ortak Ha...   \n",
       "4  Basın Bülteni Irak güçleri ile ABD Uçağı arası...   \n",
       "\n",
       "                                       English Title  \\\n",
       "0  Letter sent by Turkish Foreign Minister Mr. İs...   \n",
       "1  Joint Communique Given By Turkish And Jordan S...   \n",
       "2  Statement Made By İsmail Cem, Foreign Minister...   \n",
       "3  Turkey Welcomes The Cessation Of The Joint US-...   \n",
       "4  Press Release Regarding the latest clash betwe...   \n",
       "\n",
       "                                                Link  Sentiment  \\\n",
       "0  https://www.mfa.gov.tr/letter-sent-by-turkish-...        NaN   \n",
       "1  https://www.mfa.gov.tr/joint-communique-given-...        NaN   \n",
       "2  https://www.mfa.gov.tr/_p_statement-made-by-is...        NaN   \n",
       "3  https://www.mfa.gov.tr/turkey-welcomes-the-ces...        NaN   \n",
       "4  https://www.mfa.gov.tr/_p_press-release-regard...        NaN   \n",
       "\n",
       "   Kurds in Turkey  Kurds in Syria  Kurds in Iraq  Kurds in Iran  \\\n",
       "0                0               0            0.0              0   \n",
       "1                0               0            0.0              0   \n",
       "2                0               0            0.0              0   \n",
       "3                0               0            0.0              0   \n",
       "4                0               0            0.0              0   \n",
       "\n",
       "   Turkey's National Security  Independence or Autonomy  \\\n",
       "0                           0                       0.0   \n",
       "1                           0                       0.0   \n",
       "2                           0                       0.0   \n",
       "3                           0                       0.0   \n",
       "4                           0                       0.0   \n",
       "\n",
       "   PKK/SDF/YPG/YPJ/YBS/QSD Which group? ISIS/Daesh  \\\n",
       "0                        0            0          0   \n",
       "1                        0            0          0   \n",
       "2                        1          PKK          0   \n",
       "3                        0            0          0   \n",
       "4                        0            0          0   \n",
       "\n",
       "   Undefined terrorism or national security threat  \\\n",
       "0                                              0.0   \n",
       "1                                              0.0   \n",
       "2                                              0.0   \n",
       "3                                              0.0   \n",
       "4                                              0.0   \n",
       "\n",
       "                                           Full Text  \n",
       "0  Dear Colleague and Friend, \\n \\n I have receiv...  \n",
       "1  On 26-27 February 1998, His Excellency Mr. Ism...  \n",
       "2  \"We will carefully monitor the implementation ...  \n",
       "3  Turkey welcomes the cessation on 20 December o...  \n",
       "4  Today, Iraqi forces missiles fired ground-to-a...  "
      ]
     },
     "execution_count": 132,
     "metadata": {},
     "output_type": "execute_result"
    }
   ],
   "source": [
    "ForeignMinistryStatements = pandas.read_csv('Data/Turkish Foreign Ministry Statements - Press Releases - KRG.csv')\n",
    "\n",
    "ForeignMinistryStatements.head(5)"
   ]
  },
  {
   "cell_type": "markdown",
   "metadata": {},
   "source": [
    "We are going to graph the number of PKK mentions in MFA statements over time. Therefore we only need the date and the 'Which Group' Column."
   ]
  },
  {
   "cell_type": "code",
   "execution_count": 133,
   "metadata": {},
   "outputs": [
    {
     "data": {
      "text/html": [
       "<div>\n",
       "<style scoped>\n",
       "    .dataframe tbody tr th:only-of-type {\n",
       "        vertical-align: middle;\n",
       "    }\n",
       "\n",
       "    .dataframe tbody tr th {\n",
       "        vertical-align: top;\n",
       "    }\n",
       "\n",
       "    .dataframe thead th {\n",
       "        text-align: right;\n",
       "    }\n",
       "</style>\n",
       "<table border=\"1\" class=\"dataframe\">\n",
       "  <thead>\n",
       "    <tr style=\"text-align: right;\">\n",
       "      <th></th>\n",
       "      <th>Date (dd/mm/yyyy)</th>\n",
       "      <th>Which group?</th>\n",
       "    </tr>\n",
       "  </thead>\n",
       "  <tbody>\n",
       "    <tr>\n",
       "      <th>0</th>\n",
       "      <td>1998-04-01</td>\n",
       "      <td>0</td>\n",
       "    </tr>\n",
       "    <tr>\n",
       "      <th>1</th>\n",
       "      <td>1998-03-03</td>\n",
       "      <td>0</td>\n",
       "    </tr>\n",
       "    <tr>\n",
       "      <th>2</th>\n",
       "      <td>20/10/1998</td>\n",
       "      <td>PKK</td>\n",
       "    </tr>\n",
       "    <tr>\n",
       "      <th>3</th>\n",
       "      <td>21/12/1998</td>\n",
       "      <td>0</td>\n",
       "    </tr>\n",
       "    <tr>\n",
       "      <th>4</th>\n",
       "      <td>28/12/1998</td>\n",
       "      <td>0</td>\n",
       "    </tr>\n",
       "  </tbody>\n",
       "</table>\n",
       "</div>"
      ],
      "text/plain": [
       "  Date (dd/mm/yyyy) Which group?\n",
       "0        1998-04-01            0\n",
       "1        1998-03-03            0\n",
       "2        20/10/1998          PKK\n",
       "3        21/12/1998            0\n",
       "4        28/12/1998            0"
      ]
     },
     "execution_count": 133,
     "metadata": {},
     "output_type": "execute_result"
    }
   ],
   "source": [
    "ForeignMinistryStatements = ForeignMinistryStatements[['Date (dd/mm/yyyy)', 'Which group?']]\n",
    "\n",
    "ForeignMinistryStatements.head(5)"
   ]
  },
  {
   "cell_type": "markdown",
   "metadata": {},
   "source": [
    "For the dates, we need it to be in one common format. We write a filter for both formats, then fill the missing values in the first group with those of the second and use that as the date column"
   ]
  },
  {
   "cell_type": "code",
   "execution_count": 134,
   "metadata": {},
   "outputs": [
    {
     "data": {
      "text/html": [
       "<div>\n",
       "<style scoped>\n",
       "    .dataframe tbody tr th:only-of-type {\n",
       "        vertical-align: middle;\n",
       "    }\n",
       "\n",
       "    .dataframe tbody tr th {\n",
       "        vertical-align: top;\n",
       "    }\n",
       "\n",
       "    .dataframe thead th {\n",
       "        text-align: right;\n",
       "    }\n",
       "</style>\n",
       "<table border=\"1\" class=\"dataframe\">\n",
       "  <thead>\n",
       "    <tr style=\"text-align: right;\">\n",
       "      <th></th>\n",
       "      <th>Date (dd/mm/yyyy)</th>\n",
       "      <th>Which group?</th>\n",
       "    </tr>\n",
       "  </thead>\n",
       "  <tbody>\n",
       "    <tr>\n",
       "      <th>0</th>\n",
       "      <td>1998-04-01</td>\n",
       "      <td>0</td>\n",
       "    </tr>\n",
       "    <tr>\n",
       "      <th>1</th>\n",
       "      <td>1998-03-03</td>\n",
       "      <td>0</td>\n",
       "    </tr>\n",
       "    <tr>\n",
       "      <th>2</th>\n",
       "      <td>1998-10-20</td>\n",
       "      <td>PKK</td>\n",
       "    </tr>\n",
       "    <tr>\n",
       "      <th>3</th>\n",
       "      <td>1998-12-21</td>\n",
       "      <td>0</td>\n",
       "    </tr>\n",
       "    <tr>\n",
       "      <th>4</th>\n",
       "      <td>1998-12-28</td>\n",
       "      <td>0</td>\n",
       "    </tr>\n",
       "  </tbody>\n",
       "</table>\n",
       "</div>"
      ],
      "text/plain": [
       "  Date (dd/mm/yyyy) Which group?\n",
       "0        1998-04-01            0\n",
       "1        1998-03-03            0\n",
       "2        1998-10-20          PKK\n",
       "3        1998-12-21            0\n",
       "4        1998-12-28            0"
      ]
     },
     "execution_count": 134,
     "metadata": {},
     "output_type": "execute_result"
    }
   ],
   "source": [
    "#ForeignMinistryStatements['Date (dd/mm/yyyy)'].replace('-', '/', inplace = True)\n",
    "\n",
    "Date1 = pandas.to_datetime(ForeignMinistryStatements['Date (dd/mm/yyyy)'], errors='coerce', format='%Y-%m-%d')\n",
    "Date2 = pandas.to_datetime(ForeignMinistryStatements['Date (dd/mm/yyyy)'], errors='coerce', format='%d/%m/%Y')\n",
    "\n",
    "ForeignMinistryStatements['Date (dd/mm/yyyy)'] = Date1.fillna(Date2)\n",
    "\n",
    "ForeignMinistryStatements.head(5)"
   ]
  },
  {
   "cell_type": "markdown",
   "metadata": {},
   "source": [
    "Now we only want the data for PKK mentions:"
   ]
  },
  {
   "cell_type": "code",
   "execution_count": 135,
   "metadata": {},
   "outputs": [
    {
     "data": {
      "text/html": [
       "<div>\n",
       "<style scoped>\n",
       "    .dataframe tbody tr th:only-of-type {\n",
       "        vertical-align: middle;\n",
       "    }\n",
       "\n",
       "    .dataframe tbody tr th {\n",
       "        vertical-align: top;\n",
       "    }\n",
       "\n",
       "    .dataframe thead th {\n",
       "        text-align: right;\n",
       "    }\n",
       "</style>\n",
       "<table border=\"1\" class=\"dataframe\">\n",
       "  <thead>\n",
       "    <tr style=\"text-align: right;\">\n",
       "      <th></th>\n",
       "      <th>Date (dd/mm/yyyy)</th>\n",
       "      <th>Which group?</th>\n",
       "    </tr>\n",
       "  </thead>\n",
       "  <tbody>\n",
       "    <tr>\n",
       "      <th>2</th>\n",
       "      <td>1998-10-20</td>\n",
       "      <td>PKK</td>\n",
       "    </tr>\n",
       "    <tr>\n",
       "      <th>5</th>\n",
       "      <td>1999-08-01</td>\n",
       "      <td>PKK</td>\n",
       "    </tr>\n",
       "    <tr>\n",
       "      <th>7</th>\n",
       "      <td>1999-01-17</td>\n",
       "      <td>PKK</td>\n",
       "    </tr>\n",
       "    <tr>\n",
       "      <th>8</th>\n",
       "      <td>1999-01-19</td>\n",
       "      <td>PKK</td>\n",
       "    </tr>\n",
       "    <tr>\n",
       "      <th>9</th>\n",
       "      <td>1999-01-02</td>\n",
       "      <td>PKK</td>\n",
       "    </tr>\n",
       "    <tr>\n",
       "      <th>...</th>\n",
       "      <td>...</td>\n",
       "      <td>...</td>\n",
       "    </tr>\n",
       "    <tr>\n",
       "      <th>204</th>\n",
       "      <td>2020-03-07</td>\n",
       "      <td>PKK</td>\n",
       "    </tr>\n",
       "    <tr>\n",
       "      <th>205</th>\n",
       "      <td>2020-05-07</td>\n",
       "      <td>PKK</td>\n",
       "    </tr>\n",
       "    <tr>\n",
       "      <th>208</th>\n",
       "      <td>2020-12-08</td>\n",
       "      <td>PKK</td>\n",
       "    </tr>\n",
       "    <tr>\n",
       "      <th>210</th>\n",
       "      <td>2020-10-10</td>\n",
       "      <td>PKK</td>\n",
       "    </tr>\n",
       "    <tr>\n",
       "      <th>221</th>\n",
       "      <td>2008-11-20</td>\n",
       "      <td>PKK</td>\n",
       "    </tr>\n",
       "  </tbody>\n",
       "</table>\n",
       "<p>73 rows × 2 columns</p>\n",
       "</div>"
      ],
      "text/plain": [
       "    Date (dd/mm/yyyy) Which group?\n",
       "2          1998-10-20          PKK\n",
       "5          1999-08-01          PKK\n",
       "7          1999-01-17          PKK\n",
       "8          1999-01-19          PKK\n",
       "9          1999-01-02          PKK\n",
       "..                ...          ...\n",
       "204        2020-03-07          PKK\n",
       "205        2020-05-07          PKK\n",
       "208        2020-12-08          PKK\n",
       "210        2020-10-10          PKK\n",
       "221        2008-11-20          PKK\n",
       "\n",
       "[73 rows x 2 columns]"
      ]
     },
     "execution_count": 135,
     "metadata": {},
     "output_type": "execute_result"
    }
   ],
   "source": [
    "ForeignMinistryStatements = ForeignMinistryStatements[(ForeignMinistryStatements['Which group?'] == 'PKK') | (ForeignMinistryStatements['Which group?'] == 'Pkk') | (ForeignMinistryStatements['Which group?'] == 'pkk')]\n",
    "\n",
    "ForeignMinistryStatements"
   ]
  },
  {
   "cell_type": "markdown",
   "metadata": {},
   "source": [
    "There are 73 statements. How does this look by year?"
   ]
  },
  {
   "cell_type": "code",
   "execution_count": 136,
   "metadata": {},
   "outputs": [
    {
     "data": {
      "text/html": [
       "<div>\n",
       "<style scoped>\n",
       "    .dataframe tbody tr th:only-of-type {\n",
       "        vertical-align: middle;\n",
       "    }\n",
       "\n",
       "    .dataframe tbody tr th {\n",
       "        vertical-align: top;\n",
       "    }\n",
       "\n",
       "    .dataframe thead th {\n",
       "        text-align: right;\n",
       "    }\n",
       "</style>\n",
       "<table border=\"1\" class=\"dataframe\">\n",
       "  <thead>\n",
       "    <tr style=\"text-align: right;\">\n",
       "      <th></th>\n",
       "      <th>Which group?</th>\n",
       "    </tr>\n",
       "    <tr>\n",
       "      <th>Date (dd/mm/yyyy)</th>\n",
       "      <th></th>\n",
       "    </tr>\n",
       "  </thead>\n",
       "  <tbody>\n",
       "    <tr>\n",
       "      <th>1998-12-31</th>\n",
       "      <td>1</td>\n",
       "    </tr>\n",
       "    <tr>\n",
       "      <th>1999-12-31</th>\n",
       "      <td>11</td>\n",
       "    </tr>\n",
       "    <tr>\n",
       "      <th>2000-12-31</th>\n",
       "      <td>0</td>\n",
       "    </tr>\n",
       "    <tr>\n",
       "      <th>2001-12-31</th>\n",
       "      <td>1</td>\n",
       "    </tr>\n",
       "    <tr>\n",
       "      <th>2002-12-31</th>\n",
       "      <td>0</td>\n",
       "    </tr>\n",
       "  </tbody>\n",
       "</table>\n",
       "</div>"
      ],
      "text/plain": [
       "                   Which group?\n",
       "Date (dd/mm/yyyy)              \n",
       "1998-12-31                    1\n",
       "1999-12-31                   11\n",
       "2000-12-31                    0\n",
       "2001-12-31                    1\n",
       "2002-12-31                    0"
      ]
     },
     "execution_count": 136,
     "metadata": {},
     "output_type": "execute_result"
    }
   ],
   "source": [
    "ForeignMinistryStatements['Which group?'] = 1\n",
    "\n",
    "ForeignMinistryStatements.set_index('Date (dd/mm/yyyy)', inplace=True, drop=True)\n",
    "\n",
    "ForeignMinistryStatements = ForeignMinistryStatements.resample('Y').agg('sum')\n",
    "\n",
    "ForeignMinistryStatements.head(5)"
   ]
  },
  {
   "cell_type": "markdown",
   "metadata": {},
   "source": [
    "Let's plot this:"
   ]
  },
  {
   "cell_type": "code",
   "execution_count": 175,
   "metadata": {},
   "outputs": [
    {
     "data": {
      "image/png": "[encoded data removed]",
      "text/plain": [
       "<Figure size 1080x576 with 1 Axes>"
      ]
     },
     "metadata": {},
     "output_type": "display_data"
    }
   ],
   "source": [
    "import matplotlib.pyplot as plt\n",
    "from matplotlib import dates\n",
    "import seaborn as sns\n",
    "\n",
    "plt.figure(figsize=(15,8))\n",
    "ax = sns.lineplot(x=\"Date (dd/mm/yyyy)\", y=\"Which group?\", data=ForeignMinistryStatements)\n",
    "\n",
    "ax.set(xlabel = 'Year', ylabel = 'PKK Mentions')\n",
    "\n",
    "sns.set(font_scale = 1)\n",
    "\n",
    "ax.set(xticks=ForeignMinistryStatements.index)\n",
    "ax.xaxis.set_major_formatter(dates.DateFormatter(\"%Y\"))\n",
    "\n",
    "#set_xticks(range(len(ForeignMinistryStatements)-1))"
   ]
  },
  {
   "cell_type": "markdown",
   "metadata": {},
   "source": [
    "## GeoSpatial Data\n",
    "\n",
    "Python is quite useful for graphing quantitative data as well as geospatial data."
   ]
  }
 ],
 "metadata": {
  "interpreter": {
   "hash": "8acec0d39119eba12dc4ba7b48516797473659170c990c8cdf122c30311559b7"
  },
  "kernelspec": {
   "display_name": "Python 3.10.2 ('DataScience')",
   "language": "python",
   "name": "python3"
  },
  "language_info": {
   "codemirror_mode": {
    "name": "ipython",
    "version": 3
   },
   "file_extension": ".py",
   "mimetype": "text/x-python",
   "name": "python",
   "nbconvert_exporter": "python",
   "pygments_lexer": "ipython3",
   "version": "3.10.2"
  },
  "orig_nbformat": 4
 },
 "nbformat": 4,
 "nbformat_minor": 2
}
